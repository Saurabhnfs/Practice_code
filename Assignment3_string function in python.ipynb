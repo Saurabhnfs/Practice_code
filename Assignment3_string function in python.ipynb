{
 "cells": [
  {
   "cell_type": "markdown",
   "id": "7a75acfe",
   "metadata": {},
   "source": [
    "# String finctions in python"
   ]
  },
  {
   "cell_type": "code",
   "execution_count": 1,
   "id": "025356e4",
   "metadata": {},
   "outputs": [
    {
     "data": {
      "text/plain": [
       "'saurabh'"
      ]
     },
     "execution_count": 1,
     "metadata": {},
     "output_type": "execute_result"
    }
   ],
   "source": [
    "name = \"saurabh\"\n",
    "name"
   ]
  },
  {
   "cell_type": "code",
   "execution_count": 3,
   "id": "009cafc5",
   "metadata": {},
   "outputs": [
    {
     "data": {
      "text/plain": [
       "'SAURABH'"
      ]
     },
     "execution_count": 3,
     "metadata": {},
     "output_type": "execute_result"
    }
   ],
   "source": [
    "name.upper()"
   ]
  },
  {
   "cell_type": "code",
   "execution_count": 4,
   "id": "d8b0d241",
   "metadata": {},
   "outputs": [
    {
     "data": {
      "text/plain": [
       "'saurabh'"
      ]
     },
     "execution_count": 4,
     "metadata": {},
     "output_type": "execute_result"
    }
   ],
   "source": [
    "name.lower()"
   ]
  },
  {
   "cell_type": "code",
   "execution_count": 5,
   "id": "364cab0a",
   "metadata": {},
   "outputs": [
    {
     "data": {
      "text/plain": [
       "7"
      ]
     },
     "execution_count": 5,
     "metadata": {},
     "output_type": "execute_result"
    }
   ],
   "source": [
    "len(name)"
   ]
  },
  {
   "cell_type": "code",
   "execution_count": 8,
   "id": "d826f85a",
   "metadata": {},
   "outputs": [
    {
     "data": {
      "text/plain": [
       "'Saurabh'"
      ]
     },
     "execution_count": 8,
     "metadata": {},
     "output_type": "execute_result"
    }
   ],
   "source": [
    "name.capitalize()"
   ]
  },
  {
   "cell_type": "code",
   "execution_count": 7,
   "id": "63755e44",
   "metadata": {},
   "outputs": [
    {
     "data": {
      "text/plain": [
       "'saurabh'"
      ]
     },
     "execution_count": 7,
     "metadata": {},
     "output_type": "execute_result"
    }
   ],
   "source": [
    "name"
   ]
  },
  {
   "cell_type": "code",
   "execution_count": 9,
   "id": "45f537b4",
   "metadata": {},
   "outputs": [
    {
     "data": {
      "text/plain": [
       "'Saurabh'"
      ]
     },
     "execution_count": 9,
     "metadata": {},
     "output_type": "execute_result"
    }
   ],
   "source": [
    "name.capitalize()"
   ]
  },
  {
   "cell_type": "code",
   "execution_count": 10,
   "id": "85bdfbd9",
   "metadata": {},
   "outputs": [
    {
     "data": {
      "text/plain": [
       "True"
      ]
     },
     "execution_count": 10,
     "metadata": {},
     "output_type": "execute_result"
    }
   ],
   "source": [
    "name.isalpha()"
   ]
  },
  {
   "cell_type": "code",
   "execution_count": null,
   "id": "4b3b2776",
   "metadata": {},
   "outputs": [],
   "source": []
  },
  {
   "cell_type": "code",
   "execution_count": 13,
   "id": "c71cc8e9",
   "metadata": {},
   "outputs": [
    {
     "data": {
      "text/plain": [
       "'Enterprise'"
      ]
     },
     "execution_count": 13,
     "metadata": {},
     "output_type": "execute_result"
    }
   ],
   "source": [
    "starship = \"Enterprise\"\n",
    "starship"
   ]
  },
  {
   "cell_type": "code",
   "execution_count": 15,
   "id": "10c37ee9",
   "metadata": {},
   "outputs": [
    {
     "data": {
      "text/plain": [
       "False"
      ]
     },
     "execution_count": 15,
     "metadata": {},
     "output_type": "execute_result"
    }
   ],
   "source": [
    "starship.startswith(\"en\")"
   ]
  },
  {
   "cell_type": "code",
   "execution_count": 16,
   "id": "d9bf583d",
   "metadata": {},
   "outputs": [
    {
     "data": {
      "text/plain": [
       "False"
      ]
     },
     "execution_count": 16,
     "metadata": {},
     "output_type": "execute_result"
    }
   ],
   "source": [
    "starship.startswith(\"ter\")"
   ]
  },
  {
   "cell_type": "code",
   "execution_count": 17,
   "id": "3a4e9279",
   "metadata": {},
   "outputs": [
    {
     "data": {
      "text/plain": [
       "True"
      ]
     },
     "execution_count": 17,
     "metadata": {},
     "output_type": "execute_result"
    }
   ],
   "source": [
    "starship.startswith(\"E\")"
   ]
  },
  {
   "cell_type": "code",
   "execution_count": 18,
   "id": "7afc3495",
   "metadata": {},
   "outputs": [
    {
     "data": {
      "text/plain": [
       "False"
      ]
     },
     "execution_count": 18,
     "metadata": {},
     "output_type": "execute_result"
    }
   ],
   "source": [
    "starship.endswith('w')"
   ]
  },
  {
   "cell_type": "code",
   "execution_count": 19,
   "id": "3e925da5",
   "metadata": {},
   "outputs": [
    {
     "data": {
      "text/plain": [
       "False"
      ]
     },
     "execution_count": 19,
     "metadata": {},
     "output_type": "execute_result"
    }
   ],
   "source": [
    "starship.endswith(\"E\")"
   ]
  },
  {
   "cell_type": "code",
   "execution_count": 20,
   "id": "42066b4e",
   "metadata": {},
   "outputs": [
    {
     "data": {
      "text/plain": [
       "True"
      ]
     },
     "execution_count": 20,
     "metadata": {},
     "output_type": "execute_result"
    }
   ],
   "source": [
    "starship.endswith(\"e\")"
   ]
  },
  {
   "cell_type": "code",
   "execution_count": 29,
   "id": "18862de8",
   "metadata": {},
   "outputs": [
    {
     "data": {
      "text/plain": [
       "'Welcome boy'"
      ]
     },
     "execution_count": 29,
     "metadata": {},
     "output_type": "execute_result"
    }
   ],
   "source": [
    "# replace\n",
    "\n",
    "#str.replace(old, new)\n",
    "\n",
    "string = \"Welcome boy\"\n",
    "string"
   ]
  },
  {
   "cell_type": "code",
   "execution_count": 30,
   "id": "32e11b1b",
   "metadata": {},
   "outputs": [
    {
     "name": "stdout",
     "output_type": "stream",
     "text": [
      "GoodBye boy\n"
     ]
    }
   ],
   "source": [
    "print(string.replace(\"Welcome\",\"GoodBye\"))"
   ]
  },
  {
   "cell_type": "code",
   "execution_count": 31,
   "id": "0a59f960",
   "metadata": {},
   "outputs": [
    {
     "data": {
      "text/plain": [
       "'you can come to the party tonight.'"
      ]
     },
     "execution_count": 31,
     "metadata": {},
     "output_type": "execute_result"
    }
   ],
   "source": [
    "str = \"you can come to the party tonight.\"\n",
    "str"
   ]
  },
  {
   "cell_type": "code",
   "execution_count": 32,
   "id": "0e8d4606",
   "metadata": {},
   "outputs": [
    {
     "name": "stdout",
     "output_type": "stream",
     "text": [
      "you can not come to the party tonight.\n"
     ]
    }
   ],
   "source": [
    "x = str.replace(\"can\",\"can not\")\n",
    "print(x)"
   ]
  },
  {
   "cell_type": "code",
   "execution_count": 33,
   "id": "f64898fa",
   "metadata": {},
   "outputs": [
    {
     "data": {
      "text/plain": [
       "'the surprise is in here somewhere'"
      ]
     },
     "execution_count": 33,
     "metadata": {},
     "output_type": "execute_result"
    }
   ],
   "source": [
    "phrase = \"the surprise is in here somewhere\"\n",
    "phrase"
   ]
  },
  {
   "cell_type": "code",
   "execution_count": 34,
   "id": "3a1025ab",
   "metadata": {},
   "outputs": [
    {
     "data": {
      "text/plain": [
       "19"
      ]
     },
     "execution_count": 34,
     "metadata": {},
     "output_type": "execute_result"
    }
   ],
   "source": [
    "phrase.find(\"here\")"
   ]
  },
  {
   "cell_type": "code",
   "execution_count": 37,
   "id": "fe828508",
   "metadata": {},
   "outputs": [
    {
     "data": {
      "text/plain": [
       "24"
      ]
     },
     "execution_count": 37,
     "metadata": {},
     "output_type": "execute_result"
    }
   ],
   "source": [
    "phrase.find(\"somewhere\")"
   ]
  },
  {
   "cell_type": "code",
   "execution_count": null,
   "id": "efa1baf3",
   "metadata": {},
   "outputs": [],
   "source": []
  },
  {
   "cell_type": "code",
   "execution_count": 38,
   "id": "be85799a",
   "metadata": {},
   "outputs": [
    {
     "data": {
      "text/plain": [
       "'Hello Datatrained'"
      ]
     },
     "execution_count": 38,
     "metadata": {},
     "output_type": "execute_result"
    }
   ],
   "source": [
    "text = \"Hello Datatrained\"\n",
    "text"
   ]
  },
  {
   "cell_type": "code",
   "execution_count": 39,
   "id": "04aebb3c",
   "metadata": {},
   "outputs": [
    {
     "name": "stdout",
     "output_type": "stream",
     "text": [
      "['Hello', 'Datatrained']\n"
     ]
    }
   ],
   "source": [
    "print(text.split())"
   ]
  },
  {
   "cell_type": "code",
   "execution_count": null,
   "id": "096db4b3",
   "metadata": {},
   "outputs": [],
   "source": []
  },
  {
   "cell_type": "code",
   "execution_count": 40,
   "id": "a05033d4",
   "metadata": {},
   "outputs": [
    {
     "data": {
      "text/plain": [
       "'Hello,World, DataTrained'"
      ]
     },
     "execution_count": 40,
     "metadata": {},
     "output_type": "execute_result"
    }
   ],
   "source": [
    "text = \"Hello,World, DataTrained\"\n",
    "text"
   ]
  },
  {
   "cell_type": "code",
   "execution_count": 55,
   "id": "94cdc698",
   "metadata": {},
   "outputs": [
    {
     "name": "stdout",
     "output_type": "stream",
     "text": [
      "['Hello', 'World:', ' DataTrained']\n"
     ]
    }
   ],
   "source": [
    "print(text.split(\",\"))"
   ]
  },
  {
   "cell_type": "code",
   "execution_count": null,
   "id": "3d7f7e96",
   "metadata": {},
   "outputs": [],
   "source": []
  },
  {
   "cell_type": "code",
   "execution_count": 51,
   "id": "703d47e3",
   "metadata": {},
   "outputs": [
    {
     "data": {
      "text/plain": [
       "'Hello,World:, DataTrained'"
      ]
     },
     "execution_count": 51,
     "metadata": {},
     "output_type": "execute_result"
    }
   ],
   "source": [
    "text = \"Hello,World:, DataTrained\"\n",
    "text"
   ]
  },
  {
   "cell_type": "code",
   "execution_count": 52,
   "id": "cc08dc73",
   "metadata": {},
   "outputs": [
    {
     "name": "stdout",
     "output_type": "stream",
     "text": [
      "['Hello,World', ', DataTrained']\n"
     ]
    }
   ],
   "source": [
    "print(text.split(\":\"))"
   ]
  },
  {
   "cell_type": "code",
   "execution_count": null,
   "id": "4887d306",
   "metadata": {},
   "outputs": [],
   "source": []
  },
  {
   "cell_type": "markdown",
   "id": "9526cdab",
   "metadata": {},
   "source": [
    "# Task 1\n",
    "Write a program that converts the following strings to lowercase:\n",
    "\n",
    "\"Animals\", \"Badger\", \"Honey Bee\", \"Honey Badger\". Print each lowercase string on a separate line.\n",
    "\n"
   ]
  },
  {
   "cell_type": "code",
   "execution_count": 68,
   "id": "ea57d18e",
   "metadata": {},
   "outputs": [
    {
     "name": "stdout",
     "output_type": "stream",
     "text": [
      "animal\n",
      "honey badgger\n",
      "tiger\n"
     ]
    }
   ],
   "source": [
    "w_animal1=\"ANIMAL\"\n",
    "w_animal2=\"HONEY BADGGER\"\n",
    "w_animal3=\"TIGER\"\n",
    "print(w_animal1.lower())\n",
    "print(w_animal2.lower())\n",
    "print(w_animal3.lower())"
   ]
  },
  {
   "cell_type": "code",
   "execution_count": 83,
   "id": "2ad591d9",
   "metadata": {},
   "outputs": [
    {
     "name": "stdout",
     "output_type": "stream",
     "text": [
      "\n",
      " ANIMAL \n",
      " HONEY BADGGER \n",
      " TIGER\n"
     ]
    }
   ],
   "source": [
    "print(\"\\n\",w_animal1,\"\\n\",w_animal2,\"\\n\",w_animal3)"
   ]
  },
  {
   "cell_type": "markdown",
   "id": "2e79cb71",
   "metadata": {},
   "source": [
    "# Task 2\n",
    "\n",
    "Write a program that prints out the result of .startswith(\"be\") on\n",
    "\n",
    "each of the following strings:\n",
    "\n",
    "string1 = \"Becomes\"\n",
    "\n",
    "string2 = \"becomes\"\n",
    "\n",
    "string3 = \"BEAR\"\n",
    "\n",
    "string4 = \" bEautiful\""
   ]
  },
  {
   "cell_type": "code",
   "execution_count": 91,
   "id": "0884a39e",
   "metadata": {},
   "outputs": [],
   "source": [
    "string1 = \"Becomes\"\n",
    "\n",
    "string2 = \"becomes\"\n",
    "\n",
    "string3 = \"BEAR\"\n",
    "\n",
    "string4 = \"bEautiful\""
   ]
  },
  {
   "cell_type": "code",
   "execution_count": 92,
   "id": "7566df12",
   "metadata": {},
   "outputs": [
    {
     "name": "stdout",
     "output_type": "stream",
     "text": [
      "\n",
      " False \n",
      " True \n",
      " False \n",
      " False\n"
     ]
    }
   ],
   "source": [
    "print(\"\\n\",string1.startswith(\"be\"),\"\\n\",string2.startswith(\"be\"),\"\\n\",string3.startswith(\"be\"),\"\\n\",string4.startswith(\"be\"))"
   ]
  },
  {
   "cell_type": "code",
   "execution_count": 93,
   "id": "454bd165",
   "metadata": {},
   "outputs": [
    {
     "name": "stdout",
     "output_type": "stream",
     "text": [
      "('Becomes', 'becomes', 'BEAR', 'bEautiful')\n"
     ]
    }
   ],
   "source": [
    "str=string1,string2,string3,string4\n",
    "print(str)"
   ]
  },
  {
   "cell_type": "markdown",
   "id": "f18de4b4",
   "metadata": {},
   "source": [
    "# Task 3\n",
    "Using the same four strings from above, write a program that\n",
    "\n",
    "uses string methods to alter each string so that .startswith(\"be\")\n",
    "\n",
    "returns True for all of them"
   ]
  },
  {
   "cell_type": "code",
   "execution_count": null,
   "id": "588ead88",
   "metadata": {},
   "outputs": [],
   "source": [
    "string1 = \"Becomes\"\n",
    "\n",
    "string2 = \"becomes\"\n",
    "\n",
    "string3 = \"BEAR\"\n",
    "\n",
    "string4 = \"bEautiful\""
   ]
  },
  {
   "cell_type": "code",
   "execution_count": 126,
   "id": "3739d3a5",
   "metadata": {},
   "outputs": [
    {
     "data": {
      "text/plain": [
       "'becomes'"
      ]
     },
     "execution_count": 126,
     "metadata": {},
     "output_type": "execute_result"
    }
   ],
   "source": [
    "str=string1.replace(\"Becomes\",\"becomes\")\n",
    "str"
   ]
  },
  {
   "cell_type": "code",
   "execution_count": 125,
   "id": "80f51e52",
   "metadata": {},
   "outputs": [
    {
     "data": {
      "text/plain": [
       "'beAR'"
      ]
     },
     "execution_count": 125,
     "metadata": {},
     "output_type": "execute_result"
    }
   ],
   "source": [
    "str3=string3.replace(\"BEAR\",\"beAR\")\n",
    "str3"
   ]
  },
  {
   "cell_type": "code",
   "execution_count": 128,
   "id": "b8892989",
   "metadata": {},
   "outputs": [
    {
     "data": {
      "text/plain": [
       "'beautiful'"
      ]
     },
     "execution_count": 128,
     "metadata": {},
     "output_type": "execute_result"
    }
   ],
   "source": [
    "str4=string4.replace(\"bEautiful\",\"beautiful\")\n",
    "str4"
   ]
  },
  {
   "cell_type": "code",
   "execution_count": 131,
   "id": "fd9cc34c",
   "metadata": {},
   "outputs": [
    {
     "name": "stdout",
     "output_type": "stream",
     "text": [
      "\n",
      " True \n",
      " True \n",
      " True\n"
     ]
    }
   ],
   "source": [
    "print(\"\\n\",str.startswith(\"be\"),\"\\n\",str3.startswith(\"be\"),\"\\n\",str4.startswith(\"be\"))"
   ]
  },
  {
   "cell_type": "markdown",
   "id": "03337ad0",
   "metadata": {},
   "source": [
    "# Task 4\n",
    "Write a program that takes input from the user and displays that\n",
    "\n",
    "input back."
   ]
  },
  {
   "cell_type": "code",
   "execution_count": 133,
   "id": "b8952196",
   "metadata": {},
   "outputs": [
    {
     "name": "stdout",
     "output_type": "stream",
     "text": [
      "Hello Saurabh\n",
      "Hello Saurabh\n"
     ]
    }
   ],
   "source": [
    "user_input=input()\n",
    "print(user_input)"
   ]
  },
  {
   "cell_type": "markdown",
   "id": "dee000c3",
   "metadata": {},
   "source": [
    "# Task 5\n",
    "Write a program that takes input from the user and displays the\n",
    "\n",
    "input in lowercase."
   ]
  },
  {
   "cell_type": "code",
   "execution_count": 134,
   "id": "f64dc517",
   "metadata": {},
   "outputs": [
    {
     "name": "stdout",
     "output_type": "stream",
     "text": [
      "Hello Satyarth\n",
      "hello satyarth\n"
     ]
    }
   ],
   "source": [
    "user_input=input()\n",
    "print(user_input.lower())"
   ]
  },
  {
   "cell_type": "markdown",
   "id": "e3b0b96a",
   "metadata": {},
   "source": [
    "# Task 6\n",
    "Write a program that takes input from the user and displays the\n",
    "\n",
    "number of characters/len in the input."
   ]
  },
  {
   "cell_type": "code",
   "execution_count": 135,
   "id": "b8131aa1",
   "metadata": {},
   "outputs": [
    {
     "name": "stdout",
     "output_type": "stream",
     "text": [
      "Hello Bhargav\n",
      "13\n"
     ]
    }
   ],
   "source": [
    "user_input=input()\n",
    "print(len(user_input))"
   ]
  },
  {
   "cell_type": "code",
   "execution_count": null,
   "id": "30adfd7b",
   "metadata": {},
   "outputs": [],
   "source": []
  }
 ],
 "metadata": {
  "kernelspec": {
   "display_name": "Python 3 (ipykernel)",
   "language": "python",
   "name": "python3"
  },
  "language_info": {
   "codemirror_mode": {
    "name": "ipython",
    "version": 3
   },
   "file_extension": ".py",
   "mimetype": "text/x-python",
   "name": "python",
   "nbconvert_exporter": "python",
   "pygments_lexer": "ipython3",
   "version": "3.9.13"
  }
 },
 "nbformat": 4,
 "nbformat_minor": 5
}

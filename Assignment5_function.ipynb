{
 "cells": [
  {
   "cell_type": "markdown",
   "id": "fd7639f8",
   "metadata": {},
   "source": [
    "#\n",
    "Multiplying a number using function."
   ]
  },
  {
   "cell_type": "code",
   "execution_count": 4,
   "id": "2b722094",
   "metadata": {},
   "outputs": [
    {
     "name": "stdout",
     "output_type": "stream",
     "text": [
      "16\n"
     ]
    }
   ],
   "source": [
    "def square(x):\n",
    "    return x*x\n",
    "print(square(4))"
   ]
  },
  {
   "cell_type": "code",
   "execution_count": 5,
   "id": "a4565471",
   "metadata": {},
   "outputs": [
    {
     "data": {
      "text/plain": [
       "25"
      ]
     },
     "execution_count": 5,
     "metadata": {},
     "output_type": "execute_result"
    }
   ],
   "source": [
    "square(5)"
   ]
  },
  {
   "cell_type": "markdown",
   "id": "46fb8d53",
   "metadata": {},
   "source": [
    "#\n",
    "Adding a number using function."
   ]
  },
  {
   "cell_type": "code",
   "execution_count": 9,
   "id": "c6e65b3b",
   "metadata": {},
   "outputs": [
    {
     "name": "stdout",
     "output_type": "stream",
     "text": [
      "The sum is: 22\n"
     ]
    }
   ],
   "source": [
    "def add_number(x,y):\n",
    "    sum=x+y\n",
    "    return sum\n",
    "num1=10\n",
    "num2=12\n",
    "\n",
    "print(\"The sum is:\",add_number(num1,num2))"
   ]
  },
  {
   "cell_type": "code",
   "execution_count": 7,
   "id": "a5667444",
   "metadata": {},
   "outputs": [
    {
     "data": {
      "text/plain": [
       "22"
      ]
     },
     "execution_count": 7,
     "metadata": {},
     "output_type": "execute_result"
    }
   ],
   "source": [
    "add_number(num1,num2)"
   ]
  },
  {
   "cell_type": "markdown",
   "id": "9415fdc1",
   "metadata": {},
   "source": [
    "#\n",
    "Printing a greeting message."
   ]
  },
  {
   "cell_type": "code",
   "execution_count": 1,
   "id": "49f97887",
   "metadata": {},
   "outputs": [
    {
     "name": "stdout",
     "output_type": "stream",
     "text": [
      "Hello Saurabh , Goodevening\n"
     ]
    }
   ],
   "source": [
    "def greet(name,message):\n",
    "    print(\"Hello\",name,\",\",message)\n",
    "greet(\"Saurabh\",\"Goodevening\")"
   ]
  },
  {
   "cell_type": "markdown",
   "id": "ad267c41",
   "metadata": {},
   "source": [
    "# Task :\n",
    "Write a program to create a function that takes two arguments, name and age, and print their value."
   ]
  },
  {
   "cell_type": "code",
   "execution_count": 2,
   "id": "e251f249",
   "metadata": {},
   "outputs": [
    {
     "name": "stdout",
     "output_type": "stream",
     "text": [
      "Sayandrila 25\n"
     ]
    }
   ],
   "source": [
    "def identity(x,y):\n",
    "    print(x,y)\n",
    "identity(\"Sayandrila\",25)"
   ]
  },
  {
   "cell_type": "markdown",
   "id": "bb5505bc",
   "metadata": {},
   "source": [
    "# Task :\n",
    "Write a function absolute_value to find absolute of a given number."
   ]
  },
  {
   "cell_type": "code",
   "execution_count": 9,
   "id": "b0524aa5",
   "metadata": {},
   "outputs": [
    {
     "name": "stdout",
     "output_type": "stream",
     "text": [
      "3\n",
      "1\n"
     ]
    }
   ],
   "source": [
    "def absolute_value(x):\n",
    "    if x>=0:\n",
    "        return x\n",
    "    else:\n",
    "        return -x\n",
    "print(absolute_value(3))\n",
    "print(absolute_value(-1))"
   ]
  },
  {
   "cell_type": "code",
   "execution_count": 13,
   "id": "6a4aab12",
   "metadata": {},
   "outputs": [
    {
     "data": {
      "text/plain": [
       "2"
      ]
     },
     "execution_count": 13,
     "metadata": {},
     "output_type": "execute_result"
    }
   ],
   "source": [
    "def absolute_value(x):\n",
    "    if x>=0:\n",
    "        return x\n",
    "        print(x)\n",
    "    else:\n",
    "        return -x\n",
    "        print(-x)\n",
    "absolute_value(-2)"
   ]
  },
  {
   "cell_type": "markdown",
   "id": "bc90f1fc",
   "metadata": {},
   "source": [
    "# Task :\n",
    "write a function multiply to calculate multiplication of two numbers by taking as a arguments."
   ]
  },
  {
   "cell_type": "code",
   "execution_count": 14,
   "id": "bae52e9d",
   "metadata": {},
   "outputs": [
    {
     "name": "stdout",
     "output_type": "stream",
     "text": [
      "18\n"
     ]
    }
   ],
   "source": [
    "def multiply(x,y):\n",
    "    product=x*y\n",
    "    print(product)\n",
    "multiply(3,6)"
   ]
  },
  {
   "cell_type": "markdown",
   "id": "3e4d43fd",
   "metadata": {},
   "source": [
    "# Task : \n",
    "write a function division to calculate division of two numbers by taking as a arguments."
   ]
  },
  {
   "cell_type": "code",
   "execution_count": 16,
   "id": "282044a1",
   "metadata": {},
   "outputs": [
    {
     "name": "stdout",
     "output_type": "stream",
     "text": [
      "0.5\n"
     ]
    }
   ],
   "source": [
    "def division(x,y):\n",
    "    div=x/y\n",
    "    print(div)\n",
    "division(3,6)"
   ]
  },
  {
   "cell_type": "code",
   "execution_count": 24,
   "id": "036a6e4b",
   "metadata": {},
   "outputs": [
    {
     "name": "stdout",
     "output_type": "stream",
     "text": [
      "Value inside function: 10\n",
      "Value outside function: 20\n"
     ]
    }
   ],
   "source": [
    "def my_func():\n",
    "    x = 10\n",
    "    print(\"Value inside function:\",x)\n",
    "x = 20\n",
    "my_func()\n",
    "print(\"Value outside function:\",x)\n"
   ]
  },
  {
   "cell_type": "markdown",
   "id": "81921bcc",
   "metadata": {},
   "source": [
    "# Task : \n",
    "Write the above code to find cube of x."
   ]
  },
  {
   "cell_type": "code",
   "execution_count": 6,
   "id": "ff710143",
   "metadata": {},
   "outputs": [
    {
     "name": "stdout",
     "output_type": "stream",
     "text": [
      "[1000, 8, 512, 343, 125, 64, 27, 1331, 0, 1]\n"
     ]
    }
   ],
   "source": [
    "def cube_num(num):\n",
    "    return num**3\n",
    "\n",
    "sequences = [10,2,8,7,5,4,3,11,0, 1]\n",
    "\n",
    "result= list(map(cube_num,sequences))\n",
    "\n",
    "print(result)"
   ]
  },
  {
   "cell_type": "code",
   "execution_count": 9,
   "id": "da9ca63b",
   "metadata": {},
   "outputs": [
    {
     "name": "stdout",
     "output_type": "stream",
     "text": [
      "[1000, 8, 512, 343, 125, 64, 27, 1331, 0, 1]\n"
     ]
    }
   ],
   "source": [
    "y=3\n",
    "f_result=map(lambda x:x**y,sequences)\n",
    "print(list(f_result))"
   ]
  },
  {
   "cell_type": "markdown",
   "id": "4c69a7d0",
   "metadata": {},
   "source": [
    "# Task : \n",
    "write the above code for the expression x>4"
   ]
  },
  {
   "cell_type": "code",
   "execution_count": 10,
   "id": "b06a2690",
   "metadata": {},
   "outputs": [
    {
     "name": "stdout",
     "output_type": "stream",
     "text": [
      "[True, False, True, True, True, False, False, True, False, False]\n"
     ]
    }
   ],
   "source": [
    "sequences = [10,2,8,7,5,4,3,11,0, 1]\n",
    "\n",
    "def greater(num):\n",
    "    return num>4\n",
    "\n",
    "result=list(map(greater,sequences))\n",
    "print(result)"
   ]
  },
  {
   "cell_type": "code",
   "execution_count": 11,
   "id": "1dc025e0",
   "metadata": {},
   "outputs": [
    {
     "name": "stdout",
     "output_type": "stream",
     "text": [
      "[True, False, True, True, True, False, False, True, False, False]\n"
     ]
    }
   ],
   "source": [
    "l_result=list(map(lambda x:x>4,sequences))\n",
    "print(l_result)"
   ]
  },
  {
   "cell_type": "code",
   "execution_count": 15,
   "id": "453405ca",
   "metadata": {},
   "outputs": [
    {
     "name": "stdout",
     "output_type": "stream",
     "text": [
      "[0, 1, 4, 9, 16, 25, 36, 49, 64, 81]\n"
     ]
    }
   ],
   "source": [
    "squares = list(map(lambda x: x**2, range(10)))\n",
    "print(squares)"
   ]
  },
  {
   "cell_type": "code",
   "execution_count": 14,
   "id": "6375819b",
   "metadata": {},
   "outputs": [
    {
     "name": "stdout",
     "output_type": "stream",
     "text": [
      "[0, 1, 4, 9, 16, 25, 36, 49, 64, 81]\n"
     ]
    }
   ],
   "source": [
    "squares = [x**2 for x in range(10)]\n",
    "print(squares)"
   ]
  },
  {
   "cell_type": "code",
   "execution_count": 53,
   "id": "342e87f5",
   "metadata": {},
   "outputs": [
    {
     "name": "stdout",
     "output_type": "stream",
     "text": [
      "[]\n",
      "[]\n",
      "[]\n",
      "[]\n",
      "[]\n",
      "[]\n",
      "[216]\n",
      "[216, 343]\n",
      "[216, 343, 512]\n",
      "[216, 343, 512, 729]\n",
      "[216, 343, 512, 729, 1000]\n"
     ]
    }
   ],
   "source": [
    "cube=[]\n",
    "def triple():\n",
    "    \n",
    "    for x in range(11):\n",
    "        if x>5:\n",
    "            cube.append(x**3)\n",
    "            print(cube)\n",
    "        else:\n",
    "            print(cube)\n",
    "triple()"
   ]
  },
  {
   "cell_type": "code",
   "execution_count": 51,
   "id": "5332e18a",
   "metadata": {},
   "outputs": [
    {
     "name": "stdout",
     "output_type": "stream",
     "text": [
      "[0, 1, 4, 9, 16, 25, 36, 49, 64, 81]\n"
     ]
    }
   ],
   "source": [
    "def m_fun():\n",
    "    squares = []\n",
    "    for x in range(10):\n",
    "         squares.append(x**2)\n",
    "    print(squares)\n",
    "m_fun()"
   ]
  },
  {
   "cell_type": "markdown",
   "id": "062dd6d5",
   "metadata": {},
   "source": [
    "# Task\n",
    "Given two integer numbers return their product only if the product is equal to or lower than 1000, else return their sum."
   ]
  },
  {
   "cell_type": "code",
   "execution_count": 55,
   "id": "e8d5266e",
   "metadata": {},
   "outputs": [
    {
     "name": "stdout",
     "output_type": "stream",
     "text": [
      "Enter the first number:500\n",
      "Enter the second number:10\n",
      "510\n"
     ]
    }
   ],
   "source": [
    "num1=int(input(\"Enter the first number:\"))\n",
    "num2=int(input(\"Enter the second number:\"))\n",
    "\n",
    "def product_sum():\n",
    "    if num1*num2<=1000:\n",
    "        product=num1*num2\n",
    "        print(product)\n",
    "    else:\n",
    "        sum=num1+num2\n",
    "        print(sum)\n",
    "\n",
    "product_sum()"
   ]
  },
  {
   "cell_type": "code",
   "execution_count": 66,
   "id": "7d4709f7",
   "metadata": {},
   "outputs": [
    {
     "name": "stdout",
     "output_type": "stream",
     "text": [
      "50\n"
     ]
    }
   ],
   "source": [
    "def pro_sum(num1,num2):\n",
    "    if num1*num2<=1000:\n",
    "        product=num1*num2\n",
    "        print(product)\n",
    "    else:\n",
    "        sum=num1+num2\n",
    "        print(sum)\n",
    "pro_sum(25,2)"
   ]
  },
  {
   "cell_type": "code",
   "execution_count": 64,
   "id": "8959beff",
   "metadata": {},
   "outputs": [
    {
     "name": "stdout",
     "output_type": "stream",
     "text": [
      "The result is: 50\n"
     ]
    }
   ],
   "source": [
    "def prod_sum(num1,num2):\n",
    "    if num1*num2<=1000:\n",
    "        product=num1*num2\n",
    "        return product\n",
    "    else:\n",
    "        sum=num1+num2\n",
    "        return sum\n",
    "result=prod_sum(25,2)\n",
    "print(\"The result is:\",result)"
   ]
  },
  {
   "cell_type": "markdown",
   "id": "df8d3e21",
   "metadata": {},
   "source": [
    "# Task:\n",
    "Write a function to return True if the first and last number of a given list is same. If numbers are different then return False."
   ]
  },
  {
   "cell_type": "code",
   "execution_count": 80,
   "id": "aac19615",
   "metadata": {},
   "outputs": [
    {
     "name": "stdout",
     "output_type": "stream",
     "text": [
      "Given list: [1, 3, 23, 54, 46, 1]\n",
      "Result is: True\n",
      "Given list: [2, 5, 3, 5, 7, 5, 4, 4]\n",
      "Result is: False\n"
     ]
    }
   ],
   "source": [
    "def check(numberlist):\n",
    "    print(\"Given list:\",numberlist)\n",
    "    if numberlist[0]==numberlist[-1]:\n",
    "        return True\n",
    "    else:\n",
    "        return False\n",
    "list1=[1,3,23,54,46,1]\n",
    "print(\"Result is:\",check(list1))\n",
    "list2=[2,5,3,5,7,5,4,4]\n",
    "print(\"Result is:\",check(list2))"
   ]
  },
  {
   "cell_type": "code",
   "execution_count": null,
   "id": "05d316d4",
   "metadata": {},
   "outputs": [],
   "source": []
  }
 ],
 "metadata": {
  "kernelspec": {
   "display_name": "Python 3 (ipykernel)",
   "language": "python",
   "name": "python3"
  },
  "language_info": {
   "codemirror_mode": {
    "name": "ipython",
    "version": 3
   },
   "file_extension": ".py",
   "mimetype": "text/x-python",
   "name": "python",
   "nbconvert_exporter": "python",
   "pygments_lexer": "ipython3",
   "version": "3.9.13"
  }
 },
 "nbformat": 4,
 "nbformat_minor": 5
}

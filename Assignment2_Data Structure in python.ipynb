{
 "cells": [
  {
   "cell_type": "code",
   "execution_count": 1,
   "id": "cd4c1abc",
   "metadata": {},
   "outputs": [
    {
     "data": {
      "text/plain": [
       "[2, 5, 1, 7, 4, 71, 23]"
      ]
     },
     "execution_count": 1,
     "metadata": {},
     "output_type": "execute_result"
    }
   ],
   "source": [
    "square=[2,5,1,7,4,71,23]\n",
    "square"
   ]
  },
  {
   "cell_type": "code",
   "execution_count": 2,
   "id": "3aabd1cc",
   "metadata": {},
   "outputs": [
    {
     "data": {
      "text/plain": [
       "2"
      ]
     },
     "execution_count": 2,
     "metadata": {},
     "output_type": "execute_result"
    }
   ],
   "source": [
    "square[0]"
   ]
  },
  {
   "cell_type": "code",
   "execution_count": 3,
   "id": "c3e4ae4a",
   "metadata": {},
   "outputs": [
    {
     "data": {
      "text/plain": [
       "23"
      ]
     },
     "execution_count": 3,
     "metadata": {},
     "output_type": "execute_result"
    }
   ],
   "source": [
    "square[-1]"
   ]
  },
  {
   "cell_type": "code",
   "execution_count": 4,
   "id": "83e08fbe",
   "metadata": {},
   "outputs": [
    {
     "data": {
      "text/plain": [
       "[4, 71, 23]"
      ]
     },
     "execution_count": 4,
     "metadata": {},
     "output_type": "execute_result"
    }
   ],
   "source": [
    "square[-3:]"
   ]
  },
  {
   "cell_type": "code",
   "execution_count": 5,
   "id": "0b376945",
   "metadata": {},
   "outputs": [
    {
     "data": {
      "text/plain": [
       "[2, 5, 1, 7, 4, 71, 23]"
      ]
     },
     "execution_count": 5,
     "metadata": {},
     "output_type": "execute_result"
    }
   ],
   "source": [
    "square[:]"
   ]
  },
  {
   "cell_type": "code",
   "execution_count": 8,
   "id": "dfb76039",
   "metadata": {},
   "outputs": [
    {
     "data": {
      "text/plain": [
       "[2, 5, 1, 7, 4, 71, 23, 36, 49, 64, 81, 100]"
      ]
     },
     "execution_count": 8,
     "metadata": {},
     "output_type": "execute_result"
    }
   ],
   "source": [
    "square + [36, 49, 64, 81, 100]"
   ]
  },
  {
   "cell_type": "code",
   "execution_count": 9,
   "id": "360f4e7a",
   "metadata": {},
   "outputs": [
    {
     "data": {
      "text/plain": [
       "[2, 54, 34, 54, 32, 12, 32, 76, 28]"
      ]
     },
     "execution_count": 9,
     "metadata": {},
     "output_type": "execute_result"
    }
   ],
   "source": [
    "cubes=[2,54,34,54,32,12,32,76,28]\n",
    "cubes"
   ]
  },
  {
   "cell_type": "code",
   "execution_count": 10,
   "id": "f5b6f92f",
   "metadata": {},
   "outputs": [
    {
     "data": {
      "text/plain": [
       "54"
      ]
     },
     "execution_count": 10,
     "metadata": {},
     "output_type": "execute_result"
    }
   ],
   "source": [
    "cubes[3]"
   ]
  },
  {
   "cell_type": "code",
   "execution_count": 14,
   "id": "9bec80ef",
   "metadata": {},
   "outputs": [
    {
     "data": {
      "text/plain": [
       "[2, 54, 34, 54, 32, 12, 32, 76, 28, 32, 32, 32]"
      ]
     },
     "execution_count": 14,
     "metadata": {},
     "output_type": "execute_result"
    }
   ],
   "source": [
    "cubes.append(32)\n",
    "cubes"
   ]
  },
  {
   "cell_type": "code",
   "execution_count": 15,
   "id": "3d4b0f5a",
   "metadata": {},
   "outputs": [
    {
     "data": {
      "text/plain": [
       "[2, 54, 34, 54, 32, 12, 32, 76, 28, 32, 32, 32, 30]"
      ]
     },
     "execution_count": 15,
     "metadata": {},
     "output_type": "execute_result"
    }
   ],
   "source": [
    "cubes.append(30)\n",
    "cubes"
   ]
  },
  {
   "cell_type": "code",
   "execution_count": 16,
   "id": "7deb3eed",
   "metadata": {},
   "outputs": [
    {
     "data": {
      "text/plain": [
       "[2, 54, 34, 54, 32, 12, 32, 76, 28, 32, 32, 32, 30, 9]"
      ]
     },
     "execution_count": 16,
     "metadata": {},
     "output_type": "execute_result"
    }
   ],
   "source": [
    "cubes.append(3**2)\n",
    "cubes"
   ]
  },
  {
   "cell_type": "code",
   "execution_count": 17,
   "id": "f40541ec",
   "metadata": {},
   "outputs": [
    {
     "data": {
      "text/plain": [
       "[2, 54, 34, 54, 32, 12, 32, 76, 28, 32, 32, 32, 30, 9, 27]"
      ]
     },
     "execution_count": 17,
     "metadata": {},
     "output_type": "execute_result"
    }
   ],
   "source": [
    "cubes.append(3**3)\n",
    "cubes"
   ]
  },
  {
   "cell_type": "code",
   "execution_count": 18,
   "id": "d9e0ef4b",
   "metadata": {},
   "outputs": [
    {
     "data": {
      "text/plain": [
       "['a', 'b', 'c', 'd', 'e', 'f', 'g']"
      ]
     },
     "execution_count": 18,
     "metadata": {},
     "output_type": "execute_result"
    }
   ],
   "source": [
    "letters = ['a', 'b', 'c', 'd', 'e', 'f', 'g']\n",
    "\n",
    "letters"
   ]
  },
  {
   "cell_type": "code",
   "execution_count": 19,
   "id": "5304e6d1",
   "metadata": {},
   "outputs": [
    {
     "data": {
      "text/plain": [
       "['c', 'd', 'e', 'f']"
      ]
     },
     "execution_count": 19,
     "metadata": {},
     "output_type": "execute_result"
    }
   ],
   "source": [
    "letters[2:6]"
   ]
  },
  {
   "cell_type": "code",
   "execution_count": 22,
   "id": "1351d613",
   "metadata": {},
   "outputs": [
    {
     "data": {
      "text/plain": [
       "['a', 'b', 4, 6, 7, 7]"
      ]
     },
     "execution_count": 22,
     "metadata": {},
     "output_type": "execute_result"
    }
   ],
   "source": [
    "letters[2:4]=[4,6,7]\n",
    "letters"
   ]
  },
  {
   "cell_type": "code",
   "execution_count": 23,
   "id": "f8213909",
   "metadata": {},
   "outputs": [
    {
     "data": {
      "text/plain": [
       "['a', 'b', 4, 6, 7, 7]"
      ]
     },
     "execution_count": 23,
     "metadata": {},
     "output_type": "execute_result"
    }
   ],
   "source": [
    "letters"
   ]
  },
  {
   "cell_type": "code",
   "execution_count": 25,
   "id": "54d9b663",
   "metadata": {},
   "outputs": [
    {
     "data": {
      "text/plain": [
       "6"
      ]
     },
     "execution_count": 25,
     "metadata": {},
     "output_type": "execute_result"
    }
   ],
   "source": [
    "len(letters)"
   ]
  },
  {
   "cell_type": "code",
   "execution_count": null,
   "id": "400da08a",
   "metadata": {},
   "outputs": [],
   "source": []
  },
  {
   "cell_type": "code",
   "execution_count": 26,
   "id": "462f8f88",
   "metadata": {},
   "outputs": [
    {
     "data": {
      "text/plain": [
       "['orange', 'apple', 'pear', 'banana', 'kiwi', 'apple', 'banana']"
      ]
     },
     "execution_count": 26,
     "metadata": {},
     "output_type": "execute_result"
    }
   ],
   "source": [
    "fruits = ['orange', 'apple', 'pear', 'banana', 'kiwi', 'apple', 'banana']\n",
    "fruits"
   ]
  },
  {
   "cell_type": "code",
   "execution_count": 28,
   "id": "bfdb579f",
   "metadata": {},
   "outputs": [
    {
     "data": {
      "text/plain": [
       "2"
      ]
     },
     "execution_count": 28,
     "metadata": {},
     "output_type": "execute_result"
    }
   ],
   "source": [
    "fruits.count('apple')"
   ]
  },
  {
   "cell_type": "code",
   "execution_count": 29,
   "id": "0d4e2b36",
   "metadata": {},
   "outputs": [
    {
     "data": {
      "text/plain": [
       "2"
      ]
     },
     "execution_count": 29,
     "metadata": {},
     "output_type": "execute_result"
    }
   ],
   "source": [
    "fruits.count('banana')"
   ]
  },
  {
   "cell_type": "code",
   "execution_count": 30,
   "id": "e9dbfc70",
   "metadata": {},
   "outputs": [
    {
     "data": {
      "text/plain": [
       "3"
      ]
     },
     "execution_count": 30,
     "metadata": {},
     "output_type": "execute_result"
    }
   ],
   "source": [
    "fruits.index('banana')"
   ]
  },
  {
   "cell_type": "code",
   "execution_count": 31,
   "id": "5f8a2bf4",
   "metadata": {},
   "outputs": [
    {
     "data": {
      "text/plain": [
       "1"
      ]
     },
     "execution_count": 31,
     "metadata": {},
     "output_type": "execute_result"
    }
   ],
   "source": [
    "fruits.index('apple')"
   ]
  },
  {
   "cell_type": "code",
   "execution_count": 35,
   "id": "62193acd",
   "metadata": {},
   "outputs": [
    {
     "data": {
      "text/plain": [
       "['banana', 'apple', 'kiwi', 'banana', 'pear', 'apple', 'orange']"
      ]
     },
     "execution_count": 35,
     "metadata": {},
     "output_type": "execute_result"
    }
   ],
   "source": [
    "fruits.reverse()\n",
    "fruits"
   ]
  },
  {
   "cell_type": "code",
   "execution_count": 36,
   "id": "91c7f80b",
   "metadata": {},
   "outputs": [
    {
     "data": {
      "text/plain": [
       "['banana', 'apple', 'kiwi', 'banana', 'pear', 'apple', 'orange', 'blueberry']"
      ]
     },
     "execution_count": 36,
     "metadata": {},
     "output_type": "execute_result"
    }
   ],
   "source": [
    "fruits.append('blueberry')\n",
    "fruits"
   ]
  },
  {
   "cell_type": "code",
   "execution_count": 37,
   "id": "b1b78b69",
   "metadata": {},
   "outputs": [
    {
     "data": {
      "text/plain": [
       "['apple', 'apple', 'banana', 'banana', 'blueberry', 'kiwi', 'orange', 'pear']"
      ]
     },
     "execution_count": 37,
     "metadata": {},
     "output_type": "execute_result"
    }
   ],
   "source": [
    "fruits.sort()\n",
    "fruits"
   ]
  },
  {
   "cell_type": "code",
   "execution_count": 38,
   "id": "835a04e5",
   "metadata": {},
   "outputs": [
    {
     "data": {
      "text/plain": [
       "['apple', 'apple', 'banana', 'banana', 'blueberry', 'kiwi', 'orange']"
      ]
     },
     "execution_count": 38,
     "metadata": {},
     "output_type": "execute_result"
    }
   ],
   "source": [
    "fruits.pop()\n",
    "fruits"
   ]
  },
  {
   "cell_type": "markdown",
   "id": "7fee9c55",
   "metadata": {},
   "source": [
    "# Reversing a list"
   ]
  },
  {
   "cell_type": "code",
   "execution_count": 39,
   "id": "bd01eef7",
   "metadata": {},
   "outputs": [],
   "source": [
    "list=[21,43,65,76,32,23,45,65]\n",
    "list.reverse()"
   ]
  },
  {
   "cell_type": "code",
   "execution_count": 40,
   "id": "1368af36",
   "metadata": {},
   "outputs": [
    {
     "data": {
      "text/plain": [
       "[65, 45, 23, 32, 76, 65, 43, 21]"
      ]
     },
     "execution_count": 40,
     "metadata": {},
     "output_type": "execute_result"
    }
   ],
   "source": [
    "list"
   ]
  },
  {
   "cell_type": "code",
   "execution_count": 42,
   "id": "6ca90fc8",
   "metadata": {},
   "outputs": [
    {
     "data": {
      "text/plain": [
       "[21, 43, 65, 76, 32, 23, 45, 65]"
      ]
     },
     "execution_count": 42,
     "metadata": {},
     "output_type": "execute_result"
    }
   ],
   "source": [
    "list=list[::-1]\n",
    "list"
   ]
  },
  {
   "cell_type": "markdown",
   "id": "b60196c6",
   "metadata": {},
   "source": [
    "# Set operation"
   ]
  },
  {
   "cell_type": "code",
   "execution_count": 43,
   "id": "e5ff6b23",
   "metadata": {},
   "outputs": [
    {
     "name": "stdout",
     "output_type": "stream",
     "text": [
      "{'banana', 'apple', 'pear', 'orange'}\n"
     ]
    }
   ],
   "source": [
    "basket = {'apple', 'orange', 'apple', 'pear', 'orange', 'banana'}\n",
    "\n",
    "print(basket)"
   ]
  },
  {
   "cell_type": "code",
   "execution_count": 44,
   "id": "e468162f",
   "metadata": {},
   "outputs": [
    {
     "name": "stdout",
     "output_type": "stream",
     "text": [
      "{'banana', 'apple', 'pear', 'orange'}\n"
     ]
    }
   ],
   "source": [
    "basket.add('orange')\n",
    "print(basket)"
   ]
  },
  {
   "cell_type": "code",
   "execution_count": 45,
   "id": "8f4e259a",
   "metadata": {},
   "outputs": [
    {
     "name": "stdout",
     "output_type": "stream",
     "text": [
      "{'banana', 'pineapple', 'apple', 'pear', 'orange'}\n"
     ]
    }
   ],
   "source": [
    "basket.add('pineapple')\n",
    "print(basket)"
   ]
  },
  {
   "cell_type": "code",
   "execution_count": 46,
   "id": "5f0c175e",
   "metadata": {},
   "outputs": [
    {
     "name": "stdout",
     "output_type": "stream",
     "text": [
      "{'banana', 'pineapple', 'apple', 'pear'}\n"
     ]
    }
   ],
   "source": [
    "basket.remove('orange')\n",
    "print(basket)"
   ]
  },
  {
   "cell_type": "code",
   "execution_count": 48,
   "id": "47799d36",
   "metadata": {},
   "outputs": [
    {
     "name": "stdout",
     "output_type": "stream",
     "text": [
      "{'pineapple', 'apple', 'pear'}\n"
     ]
    }
   ],
   "source": [
    "basket.pop()\n",
    "print(basket)"
   ]
  },
  {
   "cell_type": "code",
   "execution_count": 49,
   "id": "c7b0291d",
   "metadata": {},
   "outputs": [
    {
     "name": "stdout",
     "output_type": "stream",
     "text": [
      "{'apple', 'pear'}\n"
     ]
    }
   ],
   "source": [
    "basket.pop()\n",
    "print(basket)"
   ]
  },
  {
   "cell_type": "markdown",
   "id": "57b40893",
   "metadata": {},
   "source": [
    "# Dictionary operations"
   ]
  },
  {
   "cell_type": "code",
   "execution_count": 50,
   "id": "e7758afe",
   "metadata": {},
   "outputs": [
    {
     "data": {
      "text/plain": [
       "{'jack': 4098, 'sape': 4139, 'guido': 4127}"
      ]
     },
     "execution_count": 50,
     "metadata": {},
     "output_type": "execute_result"
    }
   ],
   "source": [
    "tel = {'jack': 4098, 'sape': 4139}\n",
    "\n",
    "tel['guido'] = 4127\n",
    "\n",
    "tel"
   ]
  },
  {
   "cell_type": "code",
   "execution_count": 51,
   "id": "42e3167e",
   "metadata": {},
   "outputs": [
    {
     "data": {
      "text/plain": [
       "{'jack': 4098, 'sape': 4139, 'guido': 4127, 'buck': 3219}"
      ]
     },
     "execution_count": 51,
     "metadata": {},
     "output_type": "execute_result"
    }
   ],
   "source": [
    "tel['buck']=3219\n",
    "tel"
   ]
  },
  {
   "cell_type": "code",
   "execution_count": 54,
   "id": "269ce4ef",
   "metadata": {},
   "outputs": [
    {
     "data": {
      "text/plain": [
       "4098"
      ]
     },
     "execution_count": 54,
     "metadata": {},
     "output_type": "execute_result"
    }
   ],
   "source": [
    "tel['jack']"
   ]
  },
  {
   "cell_type": "code",
   "execution_count": 55,
   "id": "6818265c",
   "metadata": {},
   "outputs": [
    {
     "data": {
      "text/plain": [
       "{'jack': 4098, 'guido': 4127, 'buck': 3219}"
      ]
     },
     "execution_count": 55,
     "metadata": {},
     "output_type": "execute_result"
    }
   ],
   "source": [
    "del tel['sape']\n",
    "tel"
   ]
  },
  {
   "cell_type": "code",
   "execution_count": 56,
   "id": "d0e03302",
   "metadata": {},
   "outputs": [
    {
     "data": {
      "text/plain": [
       "{'jack': 4098, 'guido': 4127, 'buck': 3219, 'mike': 5483}"
      ]
     },
     "execution_count": 56,
     "metadata": {},
     "output_type": "execute_result"
    }
   ],
   "source": [
    "tel['mike']=5483\n",
    "tel"
   ]
  },
  {
   "cell_type": "code",
   "execution_count": 57,
   "id": "f3428571",
   "metadata": {},
   "outputs": [
    {
     "name": "stdout",
     "output_type": "stream",
     "text": [
      "username : XYZ\n"
     ]
    }
   ],
   "source": [
    "my_dict = {\"username\": \"XYZ\", \"email\": \"xyz@gmail.com\", \"location\":\"Mumbai\"}\n",
    "\n",
    "print(\"username :\", my_dict['username'])"
   ]
  },
  {
   "cell_type": "code",
   "execution_count": 58,
   "id": "e37791ac",
   "metadata": {},
   "outputs": [
    {
     "data": {
      "text/plain": [
       "{'username': 'XYZ', 'email': 'xyz@gmail.com', 'location': 'Mumbai'}"
      ]
     },
     "execution_count": 58,
     "metadata": {},
     "output_type": "execute_result"
    }
   ],
   "source": [
    "my_dict"
   ]
  },
  {
   "cell_type": "code",
   "execution_count": 59,
   "id": "b6f3634e",
   "metadata": {},
   "outputs": [
    {
     "data": {
      "text/plain": [
       "'xyz@gmail.com'"
      ]
     },
     "execution_count": 59,
     "metadata": {},
     "output_type": "execute_result"
    }
   ],
   "source": [
    "my_dict['email']"
   ]
  },
  {
   "cell_type": "code",
   "execution_count": 60,
   "id": "528ef6c3",
   "metadata": {},
   "outputs": [
    {
     "name": "stdout",
     "output_type": "stream",
     "text": [
      "email: xyz@gmail.com\n"
     ]
    }
   ],
   "source": [
    "print(\"email:\",my_dict[\"email\"])"
   ]
  },
  {
   "cell_type": "code",
   "execution_count": 61,
   "id": "08a2914f",
   "metadata": {},
   "outputs": [
    {
     "name": "stdout",
     "output_type": "stream",
     "text": [
      "location: Mumbai\n"
     ]
    }
   ],
   "source": [
    "print(\"location:\",my_dict[\"location\"])"
   ]
  },
  {
   "cell_type": "code",
   "execution_count": 63,
   "id": "ca7f182b",
   "metadata": {},
   "outputs": [
    {
     "data": {
      "text/plain": [
       "{'username': 'XYZ',\n",
       " 'email': 'xyz@gmail.com',\n",
       " 'location': 'Mumbai',\n",
       " 'password': 'qwerty'}"
      ]
     },
     "execution_count": 63,
     "metadata": {},
     "output_type": "execute_result"
    }
   ],
   "source": [
    "my_dict[\"password\"]=\"qwerty\"\n",
    "my_dict"
   ]
  },
  {
   "cell_type": "code",
   "execution_count": 64,
   "id": "53d449d0",
   "metadata": {},
   "outputs": [
    {
     "name": "stdout",
     "output_type": "stream",
     "text": [
      "password: qwerty\n"
     ]
    }
   ],
   "source": [
    "print(\"password:\",my_dict[\"password\"])"
   ]
  },
  {
   "cell_type": "code",
   "execution_count": 65,
   "id": "626bc1e6",
   "metadata": {},
   "outputs": [
    {
     "data": {
      "text/plain": [
       "{'username': 'xcvbnmz',\n",
       " 'email': 'xyz@gmail.com',\n",
       " 'location': 'Mumbai',\n",
       " 'password': 'qwerty'}"
      ]
     },
     "execution_count": 65,
     "metadata": {},
     "output_type": "execute_result"
    }
   ],
   "source": [
    "my_dict[\"username\"]='xcvbnmz'\n",
    "my_dict"
   ]
  },
  {
   "cell_type": "code",
   "execution_count": 66,
   "id": "e05ee9dd",
   "metadata": {},
   "outputs": [
    {
     "data": {
      "text/plain": [
       "{'username': 'xcvbnmz',\n",
       " 'email': 'xyz@gmail.com',\n",
       " 'location': 'Mumbai',\n",
       " 'password': 'qwerty',\n",
       " ('username', 'password'): ('sdhvas', 'xcvbnmz')}"
      ]
     },
     "execution_count": 66,
     "metadata": {},
     "output_type": "execute_result"
    }
   ],
   "source": [
    "my_dict[\"username\",\"password\"]=\"sdhvas\",\"xcvbnmz\"\n",
    "my_dict"
   ]
  },
  {
   "cell_type": "code",
   "execution_count": 67,
   "id": "77daa39a",
   "metadata": {},
   "outputs": [
    {
     "data": {
      "text/plain": [
       "{'email': 'xyz@gmail.com',\n",
       " 'location': 'Mumbai',\n",
       " 'password': 'qwerty',\n",
       " ('username', 'password'): ('sdhvas', 'xcvbnmz')}"
      ]
     },
     "execution_count": 67,
     "metadata": {},
     "output_type": "execute_result"
    }
   ],
   "source": [
    "del my_dict[\"username\"]\n",
    "my_dict"
   ]
  },
  {
   "cell_type": "code",
   "execution_count": 69,
   "id": "894bb280",
   "metadata": {},
   "outputs": [
    {
     "data": {
      "text/plain": [
       "'Mumbai'"
      ]
     },
     "execution_count": 69,
     "metadata": {},
     "output_type": "execute_result"
    }
   ],
   "source": [
    "my_dict.pop(\"location\")"
   ]
  },
  {
   "cell_type": "code",
   "execution_count": 70,
   "id": "6325e0ec",
   "metadata": {},
   "outputs": [
    {
     "data": {
      "text/plain": [
       "{'email': 'xyz@gmail.com',\n",
       " 'password': 'qwerty',\n",
       " ('username', 'password'): ('sdhvas', 'xcvbnmz')}"
      ]
     },
     "execution_count": 70,
     "metadata": {},
     "output_type": "execute_result"
    }
   ],
   "source": [
    "my_dict"
   ]
  },
  {
   "cell_type": "code",
   "execution_count": 71,
   "id": "c73db90e",
   "metadata": {},
   "outputs": [
    {
     "data": {
      "text/plain": [
       "'xyz@gmail.com'"
      ]
     },
     "execution_count": 71,
     "metadata": {},
     "output_type": "execute_result"
    }
   ],
   "source": [
    "my_dict.pop(\"email\",\"password\")"
   ]
  },
  {
   "cell_type": "code",
   "execution_count": 72,
   "id": "f94875f3",
   "metadata": {},
   "outputs": [
    {
     "data": {
      "text/plain": [
       "{'password': 'qwerty', ('username', 'password'): ('sdhvas', 'xcvbnmz')}"
      ]
     },
     "execution_count": 72,
     "metadata": {},
     "output_type": "execute_result"
    }
   ],
   "source": [
    "my_dict"
   ]
  },
  {
   "cell_type": "code",
   "execution_count": 73,
   "id": "ebb84220",
   "metadata": {},
   "outputs": [],
   "source": [
    "my_dict.clear()"
   ]
  },
  {
   "cell_type": "code",
   "execution_count": 74,
   "id": "0d05191f",
   "metadata": {},
   "outputs": [
    {
     "data": {
      "text/plain": [
       "{}"
      ]
     },
     "execution_count": 74,
     "metadata": {},
     "output_type": "execute_result"
    }
   ],
   "source": [
    "my_dict"
   ]
  },
  {
   "cell_type": "code",
   "execution_count": 75,
   "id": "f2add402",
   "metadata": {},
   "outputs": [
    {
     "data": {
      "text/plain": [
       "{'sportsid': 12345,\n",
       " 'sportsname': 'martial arts',\n",
       " 'playername': 'Saurabh Narayan Singh'}"
      ]
     },
     "execution_count": 75,
     "metadata": {},
     "output_type": "execute_result"
    }
   ],
   "source": [
    "Martial_arts={\"sportsid\":12345,\"sportsname\":\"martial arts\",\"playername\":\"Saurabh Narayan Singh\"}\n",
    "Martial_arts"
   ]
  },
  {
   "cell_type": "code",
   "execution_count": 81,
   "id": "d6e45f0b",
   "metadata": {},
   "outputs": [
    {
     "data": {
      "text/plain": [
       "{'sportsid': 12345,\n",
       " 'sportsname': 'martial arts',\n",
       " 'playername': 'Saurabh Narayan Singh',\n",
       " 'country': 'India'}"
      ]
     },
     "execution_count": 81,
     "metadata": {},
     "output_type": "execute_result"
    }
   ],
   "source": [
    "Martial_arts[\"country\"]=\"India\"\n",
    "Martial_arts"
   ]
  },
  {
   "cell_type": "code",
   "execution_count": 83,
   "id": "01941038",
   "metadata": {},
   "outputs": [
    {
     "data": {
      "text/plain": [
       "{'sportsid': 12345,\n",
       " 'sportsname': 'martial arts',\n",
       " 'playername': 'Saurabh Narayan Singh',\n",
       " 'country': 'India',\n",
       " 'city': 'Patna'}"
      ]
     },
     "execution_count": 83,
     "metadata": {},
     "output_type": "execute_result"
    }
   ],
   "source": [
    "Martial_arts.update({\"city\":\"Patna\"})\n",
    "Martial_arts"
   ]
  },
  {
   "cell_type": "code",
   "execution_count": 84,
   "id": "f4452188",
   "metadata": {},
   "outputs": [
    {
     "data": {
      "text/plain": [
       "{'sportsid': 12345,\n",
       " 'sportsname': 'martial arts',\n",
       " 'playername': 'Saurabh Narayan Singh',\n",
       " 'country': 'USA',\n",
       " 'city': 'Patna'}"
      ]
     },
     "execution_count": 84,
     "metadata": {},
     "output_type": "execute_result"
    }
   ],
   "source": [
    "Martial_arts.update({\"country\":\"USA\"})\n",
    "Martial_arts"
   ]
  },
  {
   "cell_type": "code",
   "execution_count": 85,
   "id": "ce4da0b4",
   "metadata": {},
   "outputs": [
    {
     "data": {
      "text/plain": [
       "{'sportsid': 12345,\n",
       " 'sportsname': 'martial arts',\n",
       " 'playername': 'Saurabh Narayan Singh',\n",
       " 'country': 'India',\n",
       " 'city': 'Patna'}"
      ]
     },
     "execution_count": 85,
     "metadata": {},
     "output_type": "execute_result"
    }
   ],
   "source": [
    "Martial_arts.update({\"country\":\"India\"})\n",
    "Martial_arts"
   ]
  },
  {
   "cell_type": "code",
   "execution_count": 91,
   "id": "7616c1df",
   "metadata": {},
   "outputs": [
    {
     "data": {
      "text/plain": [
       "{'playername': 'Saurabh Narayan Singh', 'country': 'India', 'city': 'Patna'}"
      ]
     },
     "execution_count": 91,
     "metadata": {},
     "output_type": "execute_result"
    }
   ],
   "source": [
    "del Martial_arts['sportsname']\n",
    "Martial_arts"
   ]
  },
  {
   "cell_type": "code",
   "execution_count": 92,
   "id": "7518446d",
   "metadata": {},
   "outputs": [],
   "source": [
    "Martial_arts.clear()"
   ]
  },
  {
   "cell_type": "code",
   "execution_count": 93,
   "id": "b323ea96",
   "metadata": {},
   "outputs": [
    {
     "data": {
      "text/plain": [
       "{}"
      ]
     },
     "execution_count": 93,
     "metadata": {},
     "output_type": "execute_result"
    }
   ],
   "source": [
    "Martial_arts"
   ]
  },
  {
   "cell_type": "code",
   "execution_count": null,
   "id": "ce9fffce",
   "metadata": {},
   "outputs": [],
   "source": []
  }
 ],
 "metadata": {
  "kernelspec": {
   "display_name": "Python 3 (ipykernel)",
   "language": "python",
   "name": "python3"
  },
  "language_info": {
   "codemirror_mode": {
    "name": "ipython",
    "version": 3
   },
   "file_extension": ".py",
   "mimetype": "text/x-python",
   "name": "python",
   "nbconvert_exporter": "python",
   "pygments_lexer": "ipython3",
   "version": "3.9.13"
  }
 },
 "nbformat": 4,
 "nbformat_minor": 5
}

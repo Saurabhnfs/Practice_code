{
 "cells": [
  {
   "cell_type": "code",
   "execution_count": 1,
   "id": "c43e7bc0",
   "metadata": {},
   "outputs": [
    {
     "data": {
      "text/plain": [
       "12"
      ]
     },
     "execution_count": 1,
     "metadata": {},
     "output_type": "execute_result"
    }
   ],
   "source": [
    "8+4"
   ]
  },
  {
   "cell_type": "code",
   "execution_count": 2,
   "id": "c05a5496",
   "metadata": {},
   "outputs": [
    {
     "data": {
      "text/plain": [
       "80"
      ]
     },
     "execution_count": 2,
     "metadata": {},
     "output_type": "execute_result"
    }
   ],
   "source": [
    "16*5"
   ]
  },
  {
   "cell_type": "code",
   "execution_count": 3,
   "id": "1c2dfa82",
   "metadata": {},
   "outputs": [
    {
     "data": {
      "text/plain": [
       "20"
      ]
     },
     "execution_count": 3,
     "metadata": {},
     "output_type": "execute_result"
    }
   ],
   "source": [
    "50-5*6"
   ]
  },
  {
   "cell_type": "code",
   "execution_count": 8,
   "id": "be45207e",
   "metadata": {},
   "outputs": [
    {
     "data": {
      "text/plain": [
       "5.0"
      ]
     },
     "execution_count": 8,
     "metadata": {},
     "output_type": "execute_result"
    }
   ],
   "source": [
    "(50-5*6)/4"
   ]
  },
  {
   "cell_type": "code",
   "execution_count": 9,
   "id": "2c9f6016",
   "metadata": {},
   "outputs": [],
   "source": [
    "#Now Write Comment\n",
    "#This is my first program.\n",
    "#It prints the phrase \"Hello, World\"\n",
    "#The comments are longer than the code."
   ]
  },
  {
   "cell_type": "code",
   "execution_count": 10,
   "id": "24cd4506",
   "metadata": {},
   "outputs": [
    {
     "name": "stdout",
     "output_type": "stream",
     "text": [
      "Hello world of Python\n"
     ]
    }
   ],
   "source": [
    "greeting=\"Hello world of Python\"\n",
    "print(greeting)"
   ]
  },
  {
   "cell_type": "code",
   "execution_count": 11,
   "id": "0840945a",
   "metadata": {},
   "outputs": [
    {
     "data": {
      "text/plain": [
       "1.6"
      ]
     },
     "execution_count": 11,
     "metadata": {},
     "output_type": "execute_result"
    }
   ],
   "source": [
    "8 / 5 # division always returns a floating point number"
   ]
  },
  {
   "cell_type": "code",
   "execution_count": 12,
   "id": "838cee24",
   "metadata": {},
   "outputs": [
    {
     "data": {
      "text/plain": [
       "5.666666666666667"
      ]
     },
     "execution_count": 12,
     "metadata": {},
     "output_type": "execute_result"
    }
   ],
   "source": [
    "17 / 3 # classic division returns a float"
   ]
  },
  {
   "cell_type": "code",
   "execution_count": 13,
   "id": "f79c6214",
   "metadata": {},
   "outputs": [
    {
     "data": {
      "text/plain": [
       "5"
      ]
     },
     "execution_count": 13,
     "metadata": {},
     "output_type": "execute_result"
    }
   ],
   "source": [
    "17 // 3 # floor division discards the fractional part"
   ]
  },
  {
   "cell_type": "code",
   "execution_count": 14,
   "id": "b2e323f4",
   "metadata": {},
   "outputs": [
    {
     "data": {
      "text/plain": [
       "2"
      ]
     },
     "execution_count": 14,
     "metadata": {},
     "output_type": "execute_result"
    }
   ],
   "source": [
    "17 % 3 # the % operator returns the remainder of the division"
   ]
  },
  {
   "cell_type": "code",
   "execution_count": 15,
   "id": "5b03e9d0",
   "metadata": {},
   "outputs": [
    {
     "data": {
      "text/plain": [
       "17"
      ]
     },
     "execution_count": 15,
     "metadata": {},
     "output_type": "execute_result"
    }
   ],
   "source": [
    "5 * 3 + 2 # result * divisor + remainder"
   ]
  },
  {
   "cell_type": "code",
   "execution_count": 16,
   "id": "34061411",
   "metadata": {},
   "outputs": [
    {
     "data": {
      "text/plain": [
       "25"
      ]
     },
     "execution_count": 16,
     "metadata": {},
     "output_type": "execute_result"
    }
   ],
   "source": [
    "5 ** 2 # 5 squared"
   ]
  },
  {
   "cell_type": "code",
   "execution_count": 17,
   "id": "9399061c",
   "metadata": {},
   "outputs": [
    {
     "data": {
      "text/plain": [
       "128"
      ]
     },
     "execution_count": 17,
     "metadata": {},
     "output_type": "execute_result"
    }
   ],
   "source": [
    "2 ** 7 # 2 to the power of 7"
   ]
  },
  {
   "cell_type": "code",
   "execution_count": 25,
   "id": "638bf5ef",
   "metadata": {},
   "outputs": [
    {
     "name": "stdout",
     "output_type": "stream",
     "text": [
      "20\n",
      "The value of width= 20\n",
      "The value of width is= 20\n",
      "Value= 900\n",
      "45\n"
     ]
    }
   ],
   "source": [
    "width = 20\n",
    "\n",
    "height = 5 * 9\n",
    "\n",
    "width * height\n",
    "\n",
    "print(width)\n",
    "\n",
    "print(\"The value of width=\",width)\n",
    "\n",
    "print(\"The value of width is=\", width)\n",
    "\n",
    "print(\"Value=\",width*height)\n",
    "\n",
    "print(height)"
   ]
  },
  {
   "cell_type": "code",
   "execution_count": 26,
   "id": "640b8078",
   "metadata": {},
   "outputs": [
    {
     "name": "stdout",
     "output_type": "stream",
     "text": [
      "0.125\n",
      "100.5\n"
     ]
    }
   ],
   "source": [
    "tax = 12.5 / 100\n",
    "\n",
    "price = 100.50\n",
    "\n",
    "price * tax\n",
    "\n",
    "print(tax)\n",
    "print(price)"
   ]
  },
  {
   "cell_type": "code",
   "execution_count": 30,
   "id": "b4ffdfbb",
   "metadata": {},
   "outputs": [
    {
     "data": {
      "text/plain": [
       "'The Sun'"
      ]
     },
     "execution_count": 30,
     "metadata": {},
     "output_type": "execute_result"
    }
   ],
   "source": [
    "\"The \"+\"Sun\""
   ]
  },
  {
   "cell_type": "code",
   "execution_count": 31,
   "id": "832ede7b",
   "metadata": {},
   "outputs": [
    {
     "data": {
      "text/plain": [
       "'Planets Universe'"
      ]
     },
     "execution_count": 31,
     "metadata": {},
     "output_type": "execute_result"
    }
   ],
   "source": [
    "\"Planets\"+\" Universe\""
   ]
  },
  {
   "cell_type": "code",
   "execution_count": 32,
   "id": "a4ec9022",
   "metadata": {},
   "outputs": [
    {
     "data": {
      "text/plain": [
       "'The Moon'"
      ]
     },
     "execution_count": 32,
     "metadata": {},
     "output_type": "execute_result"
    }
   ],
   "source": [
    "\"The \"+\"Moon\""
   ]
  },
  {
   "cell_type": "code",
   "execution_count": 33,
   "id": "d9e63181",
   "metadata": {},
   "outputs": [
    {
     "data": {
      "text/plain": [
       "'ElonMusk'"
      ]
     },
     "execution_count": 33,
     "metadata": {},
     "output_type": "execute_result"
    }
   ],
   "source": [
    "string1 = \"Elon\"\n",
    "\n",
    "string2 = \"Musk\"\n",
    "\n",
    "magic_string = string1 + string2\n",
    "\n",
    "magic_string"
   ]
  },
  {
   "cell_type": "code",
   "execution_count": 34,
   "id": "ff1f0d8a",
   "metadata": {},
   "outputs": [
    {
     "name": "stdout",
     "output_type": "stream",
     "text": [
      "Saurabh Singh\n"
     ]
    }
   ],
   "source": [
    "first_name=\"Saurabh\"\n",
    "last_name=\"Singh\"\n",
    "\n",
    "print(first_name+\" \"+last_name)"
   ]
  },
  {
   "cell_type": "code",
   "execution_count": 36,
   "id": "29d4160b",
   "metadata": {},
   "outputs": [
    {
     "name": "stdout",
     "output_type": "stream",
     "text": [
      "The weather looks good today. I should go out for a walk.\n"
     ]
    }
   ],
   "source": [
    "first=\"The weather looks good today.\"\n",
    "second=\"I should go out for a walk.\"\n",
    "\n",
    "print(first+\" \"+second)"
   ]
  },
  {
   "cell_type": "code",
   "execution_count": 47,
   "id": "0eae0121",
   "metadata": {},
   "outputs": [
    {
     "name": "stdout",
     "output_type": "stream",
     "text": [
      "Hey, What's up?\n",
      "I am good.\n"
     ]
    }
   ],
   "source": [
    "xyz=\"Hey, What's up?\"\n",
    "\n",
    "print(xyz)\n",
    "qwe=input(\"\")"
   ]
  },
  {
   "cell_type": "code",
   "execution_count": 53,
   "id": "65eb78e5",
   "metadata": {},
   "outputs": [
    {
     "name": "stdout",
     "output_type": "stream",
     "text": [
      "Enter the number:10\n",
      "20\n"
     ]
    }
   ],
   "source": [
    "num1=input(\"Enter the number:\")\n",
    "num2= int(num1)*2\n",
    "print(num2)"
   ]
  },
  {
   "cell_type": "code",
   "execution_count": 51,
   "id": "cf1465dc",
   "metadata": {},
   "outputs": [
    {
     "name": "stdout",
     "output_type": "stream",
     "text": [
      "Enter a number to be doubled: 20\n",
      "40\n"
     ]
    }
   ],
   "source": [
    "num = input(\"Enter a number to be doubled: \")\n",
    "\n",
    "doubled_num = int(num) * 2\n",
    "\n",
    "print(doubled_num)"
   ]
  },
  {
   "cell_type": "code",
   "execution_count": 60,
   "id": "86effc70",
   "metadata": {},
   "outputs": [
    {
     "name": "stdout",
     "output_type": "stream",
     "text": [
      "Enter the first number:2\n",
      "Enter the second number:4\n",
      "The product of 2 and 4 is 8\n"
     ]
    }
   ],
   "source": [
    "f_num=input(\"Enter the first number:\")\n",
    "s_num=input(\"Enter the second number:\")\n",
    "\n",
    "result=int(f_num)*int(s_num)\n",
    "\n",
    "print(\"The product of \"+str(f_num)+\" and \"+str(s_num)+\" is \"+str(result))"
   ]
  },
  {
   "cell_type": "code",
   "execution_count": 64,
   "id": "f67aed20",
   "metadata": {},
   "outputs": [
    {
     "name": "stdout",
     "output_type": "stream",
     "text": [
      "principle2300\n",
      "rate12\n",
      "time3\n",
      "The simple interst is: 828.0\n"
     ]
    }
   ],
   "source": [
    "principle=int(input(\"principle\"))\n",
    "rate=int(input(\"rate\"))\n",
    "time=int(input(\"time\"))\n",
    "\n",
    "si=(principle*rate*time)/100\n",
    "\n",
    "print(\"The simple interst is:\",si)"
   ]
  },
  {
   "cell_type": "code",
   "execution_count": 67,
   "id": "799437fb",
   "metadata": {},
   "outputs": [
    {
     "data": {
      "text/plain": [
       "6"
      ]
     },
     "execution_count": 67,
     "metadata": {},
     "output_type": "execute_result"
    }
   ],
   "source": [
    "str=\"abcdef\"\n",
    "len(str)"
   ]
  },
  {
   "cell_type": "code",
   "execution_count": 68,
   "id": "bc8c523d",
   "metadata": {},
   "outputs": [
    {
     "name": "stdout",
     "output_type": "stream",
     "text": [
      "800\n"
     ]
    }
   ],
   "source": [
    "flying_plane_cost=5000\n",
    "no_of_travellers=29\n",
    "per_ticket_price=200\n",
    "\n",
    "money_earner= no_of_travellers * per_ticket_price\n",
    "\n",
    "profit = money_earner - flying_plane_cost\n",
    "\n",
    "print(profit)"
   ]
  },
  {
   "cell_type": "code",
   "execution_count": null,
   "id": "0dc011da",
   "metadata": {},
   "outputs": [],
   "source": []
  }
 ],
 "metadata": {
  "kernelspec": {
   "display_name": "Python 3 (ipykernel)",
   "language": "python",
   "name": "python3"
  },
  "language_info": {
   "codemirror_mode": {
    "name": "ipython",
    "version": 3
   },
   "file_extension": ".py",
   "mimetype": "text/x-python",
   "name": "python",
   "nbconvert_exporter": "python",
   "pygments_lexer": "ipython3",
   "version": "3.9.13"
  }
 },
 "nbformat": 4,
 "nbformat_minor": 5
}

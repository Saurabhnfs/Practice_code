{
 "cells": [
  {
   "cell_type": "code",
   "execution_count": 1,
   "id": "0ddc6547",
   "metadata": {},
   "outputs": [
    {
     "name": "stdout",
     "output_type": "stream",
     "text": [
      "0\n",
      "1\n",
      "2\n",
      "3\n"
     ]
    }
   ],
   "source": [
    "x=0\n",
    "while(x<4):\n",
    "    print(x)\n",
    "    x=x+1"
   ]
  },
  {
   "cell_type": "markdown",
   "id": "71823958",
   "metadata": {},
   "source": [
    "# Task\n",
    "Print First 10 natural numbers using while loop"
   ]
  },
  {
   "cell_type": "code",
   "execution_count": 4,
   "id": "9aa60e21",
   "metadata": {},
   "outputs": [
    {
     "name": "stdout",
     "output_type": "stream",
     "text": [
      "1\n",
      "2\n",
      "3\n",
      "4\n",
      "5\n",
      "6\n",
      "7\n",
      "8\n",
      "9\n",
      "10\n"
     ]
    }
   ],
   "source": [
    "x=1\n",
    "while(x<=10):\n",
    "    print(x)\n",
    "    x=x+1"
   ]
  },
  {
   "cell_type": "code",
   "execution_count": 1,
   "id": "ecd89fcb",
   "metadata": {},
   "outputs": [
    {
     "name": "stdout",
     "output_type": "stream",
     "text": [
      "2\n",
      "3\n",
      "4\n",
      "5\n",
      "6\n"
     ]
    }
   ],
   "source": [
    "for x in range(2,7):\n",
    "    print(x)"
   ]
  },
  {
   "cell_type": "code",
   "execution_count": 3,
   "id": "a952e31e",
   "metadata": {},
   "outputs": [
    {
     "name": "stdout",
     "output_type": "stream",
     "text": [
      "jan\n",
      "feb\n",
      "mar\n",
      "apr\n",
      "may\n"
     ]
    }
   ],
   "source": [
    "months=[\"jan\",\"feb\",\"mar\",\"apr\",\"may\"]\n",
    "for m in months:\n",
    "    print(m)"
   ]
  },
  {
   "cell_type": "code",
   "execution_count": 4,
   "id": "8bd0f415",
   "metadata": {},
   "outputs": [
    {
     "name": "stdout",
     "output_type": "stream",
     "text": [
      "cat\n",
      "dog\n",
      "horse\n",
      "donkey\n",
      "cat 3\n",
      "dog 3\n",
      "horse 5\n",
      "donkey 6\n"
     ]
    }
   ],
   "source": [
    "animals=[\"cat\",\"dog\",\"horse\",\"donkey\"]\n",
    "for a in animals:\n",
    "    print(a)\n",
    "    \n",
    "for a in animals:\n",
    "    print(a,len(a))"
   ]
  },
  {
   "cell_type": "code",
   "execution_count": 14,
   "id": "a531844f",
   "metadata": {},
   "outputs": [
    {
     "name": "stdout",
     "output_type": "stream",
     "text": [
      "range(5, 10)\n",
      "[5, 6, 7, 8, 9]\n",
      "[0, 3, 6, 9]\n",
      "[0, 1, 2, 3, 4, 5, 6, 7, 8]\n",
      "0\n",
      "1\n",
      "2\n",
      "3\n",
      "4\n"
     ]
    }
   ],
   "source": [
    "print(range(5,10))\n",
    "print(list(range(5,10)))\n",
    "print(list(range(0,10,3)))\n",
    "print(list(range(9)))\n",
    "\n",
    "a=[\"Marry\",\"had\",\"a\",\"little\",\"lamb\"]\n",
    "\n",
    "for i in range(len(a)):\n",
    "    print(i)"
   ]
  },
  {
   "cell_type": "code",
   "execution_count": 16,
   "id": "fe7c98a1",
   "metadata": {},
   "outputs": [
    {
     "name": "stdout",
     "output_type": "stream",
     "text": [
      "x is greater than y\n"
     ]
    }
   ],
   "source": [
    "x=18\n",
    "y=10\n",
    "\n",
    "if(x<y):\n",
    "    st=\"x is smaller than y\"\n",
    "else:\n",
    "    st=\"x is greater than y\"\n",
    "    \n",
    "print(st)"
   ]
  },
  {
   "cell_type": "code",
   "execution_count": 26,
   "id": "996d86b7",
   "metadata": {},
   "outputs": [
    {
     "name": "stdout",
     "output_type": "stream",
     "text": [
      "Please enter a number1\n",
      "One\n"
     ]
    }
   ],
   "source": [
    "x=int(input(\"Please enter a number\"))\n",
    "\n",
    "if x<0:\n",
    "    x==0\n",
    "    print(\"Negative changed to zero.\")\n",
    "elif x==0:\n",
    "    print(\"Zero\")\n",
    "elif x==1:\n",
    "    print(\"One\")\n",
    "else:\n",
    "    print(\"Digit\")\n",
    "    "
   ]
  },
  {
   "cell_type": "markdown",
   "id": "850eb116",
   "metadata": {},
   "source": [
    "# Task\n",
    "write a program using if-elif with different country value and total values."
   ]
  },
  {
   "cell_type": "code",
   "execution_count": 31,
   "id": "1fcb27ed",
   "metadata": {},
   "outputs": [
    {
     "name": "stdout",
     "output_type": "stream",
     "text": [
      "Write your counrty name:au\n",
      "Free\n"
     ]
    }
   ],
   "source": [
    "total=125\n",
    "country=input(\"Write your counrty name:\")\n",
    "\n",
    "if country==\"us\":\n",
    "    if total<=50:\n",
    "        print(\"Shipping cost is $150.\")\n",
    "    elif total<=100:\n",
    "        print(\"Shipping cost is $50.\")\n",
    "    elif total<=25:\n",
    "        print(\"Shipping cost is $25.\")\n",
    "    else:\n",
    "        print(\"Free.\")\n",
    "if country==\"au\":\n",
    "    if total<=100:\n",
    "        print(\"Shipping cost is $50\")\n",
    "    else:\n",
    "        print(\"Free\")\n"
   ]
  },
  {
   "cell_type": "markdown",
   "id": "878cc7f9",
   "metadata": {},
   "source": [
    "# Task\n",
    "write a program to find even or odd using for loop /range function."
   ]
  },
  {
   "cell_type": "code",
   "execution_count": 50,
   "id": "c1690980",
   "metadata": {},
   "outputs": [
    {
     "name": "stdout",
     "output_type": "stream",
     "text": [
      "Even Number\n",
      "Odd Number\n",
      "Even Number\n",
      "Odd Number\n",
      "Even Number\n",
      "Odd Number\n",
      "Even Number\n",
      "Odd Number\n",
      "Even Number\n",
      "Odd Number\n"
     ]
    }
   ],
   "source": [
    "for num in range(10):\n",
    "    if num%2==0:\n",
    "        print(\"Even Number\")\n",
    "    else:\n",
    "        print(\"Odd Number\")"
   ]
  },
  {
   "cell_type": "code",
   "execution_count": 47,
   "id": "c9222969",
   "metadata": {},
   "outputs": [
    {
     "name": "stdout",
     "output_type": "stream",
     "text": [
      "Found an even number 2\n",
      "Found an even number 4\n",
      "Found an even number 6\n",
      "Found an even number 8\n"
     ]
    }
   ],
   "source": [
    "for num in range(2, 10):\n",
    "\n",
    "    if num % 2 == 0:\n",
    "\n",
    "        print(\"Found an even number\", num)\n",
    "\n",
    "    continue\n",
    "\n",
    "    print(\"Found a number\", num)"
   ]
  },
  {
   "cell_type": "markdown",
   "id": "5fc301f8",
   "metadata": {},
   "source": [
    "# Task\n",
    "write two different loops for break if x is even number and continue when the number is divide by 5."
   ]
  },
  {
   "cell_type": "code",
   "execution_count": 84,
   "id": "7a4db23e",
   "metadata": {},
   "outputs": [
    {
     "name": "stdout",
     "output_type": "stream",
     "text": [
      "1\n",
      "3\n",
      "7\n",
      "9\n",
      "11\n",
      "13\n",
      "17\n",
      "19\n"
     ]
    }
   ],
   "source": [
    "for x in range(20):\n",
    "    if x==20:\n",
    "        break\n",
    "    if x%2==0:\n",
    "        continue\n",
    "    if x%5==0:\n",
    "        continue\n",
    "    print(x)"
   ]
  },
  {
   "cell_type": "code",
   "execution_count": 80,
   "id": "baf9e62c",
   "metadata": {},
   "outputs": [
    {
     "name": "stdout",
     "output_type": "stream",
     "text": [
      "11\n",
      "13\n"
     ]
    }
   ],
   "source": [
    "for x in range (10,20):\n",
    "    if (x == 15):\n",
    "        break\n",
    "    if (x % 2 == 0):\n",
    "        continue\n",
    "    print(x)"
   ]
  },
  {
   "cell_type": "code",
   "execution_count": 73,
   "id": "0a5c7873",
   "metadata": {},
   "outputs": [
    {
     "name": "stdout",
     "output_type": "stream",
     "text": [
      "11\n",
      "12\n",
      "13\n",
      "14\n"
     ]
    }
   ],
   "source": [
    "for x in range (10,20):\n",
    "    if (x == 15):\n",
    "        break\n",
    "    if (x % 5 == 0):\n",
    "        continue\n",
    "    print(x)"
   ]
  },
  {
   "cell_type": "markdown",
   "id": "2e3a1c96",
   "metadata": {},
   "source": [
    "# Task\n",
    "Display numbers divisible by 5 from a list.Iterate the given list of numbers and print only those numbers which are divisible by 5."
   ]
  },
  {
   "cell_type": "code",
   "execution_count": 86,
   "id": "dfa88dc5",
   "metadata": {},
   "outputs": [
    {
     "name": "stdout",
     "output_type": "stream",
     "text": [
      "Given list: [5, 10, 15, 34, 20, 32, 56, 25, 30]\n",
      "Number divisible by 5:\n",
      "5\n",
      "10\n",
      "15\n",
      "20\n",
      "25\n",
      "30\n"
     ]
    }
   ],
   "source": [
    "num = [5,10,15,34,20,32,56,25,30]\n",
    "print(\"Given list:\",num)\n",
    "print(\"Number divisible by 5:\")\n",
    "for n in num:\n",
    "    if n%5==0:\n",
    "        print(n)"
   ]
  },
  {
   "cell_type": "markdown",
   "id": "5bd3113e",
   "metadata": {},
   "source": [
    "# Task\n",
    "Calculate the sum of all numbers from 1 to a given number"
   ]
  },
  {
   "cell_type": "code",
   "execution_count": 94,
   "id": "af08861f",
   "metadata": {},
   "outputs": [
    {
     "name": "stdout",
     "output_type": "stream",
     "text": [
      "Enter a number12\n",
      "sum is: 1\n",
      "sum is: 3\n",
      "sum is: 6\n",
      "sum is: 10\n",
      "sum is: 15\n",
      "sum is: 21\n",
      "sum is: 28\n",
      "sum is: 36\n",
      "sum is: 45\n",
      "sum is: 55\n",
      "sum is: 66\n",
      "sum is: 78\n"
     ]
    }
   ],
   "source": [
    "sum = 0\n",
    "num = int(input(\"Enter a number\"))\n",
    "for n in range(1,num+1):\n",
    "    sum=sum+n\n",
    "    print(\"sum is:\",sum)"
   ]
  },
  {
   "cell_type": "markdown",
   "id": "0dc36b62",
   "metadata": {},
   "source": [
    "# Task\n",
    "Write a program to print multiplication table of a given number\n"
   ]
  },
  {
   "cell_type": "code",
   "execution_count": 97,
   "id": "17b50a78",
   "metadata": {},
   "outputs": [
    {
     "name": "stdout",
     "output_type": "stream",
     "text": [
      "Enter a number:2\n",
      "2 x 1 = 2\n",
      "2 x 2 = 4\n",
      "2 x 3 = 6\n",
      "2 x 4 = 8\n",
      "2 x 5 = 10\n",
      "2 x 6 = 12\n",
      "2 x 7 = 14\n",
      "2 x 8 = 16\n",
      "2 x 9 = 18\n",
      "2 x 10 = 20\n"
     ]
    }
   ],
   "source": [
    "num = int(input(\"Enter a number:\"))\n",
    "for i in range(1,11,1):\n",
    "    product=i*num\n",
    "    print(num,\"x\",i,\"=\",product)"
   ]
  },
  {
   "cell_type": "markdown",
   "id": "34e82958",
   "metadata": {},
   "source": [
    " # Task \n",
    " create a new list with the values doubled"
   ]
  },
  {
   "cell_type": "code",
   "execution_count": 107,
   "id": "0031ada4",
   "metadata": {},
   "outputs": [
    {
     "name": "stdout",
     "output_type": "stream",
     "text": [
      "-8\n",
      "-4\n",
      "0\n",
      "4\n",
      "8\n"
     ]
    }
   ],
   "source": [
    "vec = [-4, -2, 0, 2, 4]\n",
    "\n",
    "for v in vec:\n",
    "    v=v*2\n",
    "    print(v)"
   ]
  },
  {
   "cell_type": "markdown",
   "id": "b15ffebe",
   "metadata": {},
   "source": [
    "# Task\n",
    "filter the list to exclude negative numbers"
   ]
  },
  {
   "cell_type": "code",
   "execution_count": 114,
   "id": "340fb44b",
   "metadata": {},
   "outputs": [
    {
     "name": "stdout",
     "output_type": "stream",
     "text": [
      "0\n",
      "2\n",
      "4\n"
     ]
    }
   ],
   "source": [
    "vec = [-4, -2, 0, 2, 4]\n",
    "for v in vec:\n",
    "    if v<0:\n",
    "        continue\n",
    "    print(v)"
   ]
  },
  {
   "cell_type": "markdown",
   "id": "2398a1ef",
   "metadata": {},
   "source": [
    "# abs() function"
   ]
  },
  {
   "cell_type": "code",
   "execution_count": 118,
   "id": "4f92f506",
   "metadata": {},
   "outputs": [
    {
     "name": "stdout",
     "output_type": "stream",
     "text": [
      "4\n",
      "2\n",
      "0\n",
      "2\n",
      "4\n"
     ]
    }
   ],
   "source": [
    "vec = [-4, -2, 0, 2, 4]\n",
    "for v in vec:\n",
    "    print(abs(v))"
   ]
  },
  {
   "cell_type": "markdown",
   "id": "dc1ef4e9",
   "metadata": {},
   "source": [
    "# Strip() function"
   ]
  },
  {
   "cell_type": "code",
   "execution_count": 131,
   "id": "ce7de4c6",
   "metadata": {},
   "outputs": [
    {
     "name": "stdout",
     "output_type": "stream",
     "text": [
      "banana\n",
      "loganberry\n",
      "passion fruit\n"
     ]
    }
   ],
   "source": [
    "# removes white space from start and end when no argument is given\n",
    "\n",
    "freshfruit = [' banana', ' loganberry ', 'passion fruit ']\n",
    "for f in freshfruit:\n",
    "    f=f.strip()\n",
    "    print(f)"
   ]
  },
  {
   "cell_type": "code",
   "execution_count": 160,
   "id": "d7190ea7",
   "metadata": {},
   "outputs": [
    {
     "name": "stdout",
     "output_type": "stream",
     "text": [
      " \n",
      " loganberry \n",
      "passion fruit \n"
     ]
    }
   ],
   "source": [
    "freshfruit = [' banana', ' loganberry ', 'passion fruit ']\n",
    "for f in freshfruit:\n",
    "    f=f.strip(\"banana\")\n",
    "    print(f)"
   ]
  },
  {
   "cell_type": "markdown",
   "id": "90abce5e",
   "metadata": {},
   "source": [
    "# Task\n",
    "create a list of 2-tuples like (number, square)"
   ]
  },
  {
   "cell_type": "code",
   "execution_count": 161,
   "id": "3121ef37",
   "metadata": {},
   "outputs": [
    {
     "name": "stdout",
     "output_type": "stream",
     "text": [
      "[(0, 0), (1, 1), (2, 4), (3, 9), (4, 16), (5, 25), (6, 36), (7, 49), (8, 64), (9, 81)]\n"
     ]
    }
   ],
   "source": [
    "list=[]\n",
    "for x in range(10):\n",
    "    x=(x,x**2)\n",
    "    list.append(x)\n",
    "print(list)"
   ]
  },
  {
   "cell_type": "markdown",
   "id": "be2217b9",
   "metadata": {},
   "source": [
    "# Task sorted() function\n",
    "To loop over a sequence in sorted order, use the sorted() function which returns a new sorted list while\n",
    "\n",
    "leaving the source unaltered."
   ]
  },
  {
   "cell_type": "code",
   "execution_count": 162,
   "id": "3a4eb03e",
   "metadata": {},
   "outputs": [
    {
     "name": "stdout",
     "output_type": "stream",
     "text": [
      "apple\n",
      "banana\n",
      "orange\n",
      "pear\n"
     ]
    }
   ],
   "source": [
    "basket = ['apple', 'orange', 'apple', 'pear', 'orange', 'banana']\n",
    "\n",
    "for b in sorted(set(basket)):\n",
    "    print(b)"
   ]
  },
  {
   "cell_type": "markdown",
   "id": "e87657fa",
   "metadata": {},
   "source": [
    "# Task reversed() function\n",
    "To loop over a sequence in reverse, first specify the sequence in a forward direction and then call the\n",
    "\n",
    "reversed() function."
   ]
  },
  {
   "cell_type": "code",
   "execution_count": 163,
   "id": "34978dbb",
   "metadata": {},
   "outputs": [
    {
     "name": "stdout",
     "output_type": "stream",
     "text": [
      "8\n",
      "6\n",
      "4\n",
      "2\n"
     ]
    }
   ],
   "source": [
    "for i in reversed(range(2,10,2)):\n",
    "    print(i)"
   ]
  },
  {
   "cell_type": "markdown",
   "id": "2c417766",
   "metadata": {},
   "source": [
    "# if-else peactice"
   ]
  },
  {
   "cell_type": "code",
   "execution_count": 164,
   "id": "cb369c89",
   "metadata": {},
   "outputs": [
    {
     "name": "stdout",
     "output_type": "stream",
     "text": [
      "Today is the day of Odin, the supreme diety.\n"
     ]
    }
   ],
   "source": [
    "today = 'Wednesday'\n",
    "\n",
    " \n",
    "\n",
    "if today == 'Sunday':\n",
    "\n",
    "    print(\"Today is the day of the sun.\")\n",
    "\n",
    "elif today == 'Monday':\n",
    "\n",
    "    print(\"Today is the day of the moon.\")\n",
    "\n",
    "elif today == 'Tuesday':\n",
    "\n",
    "    print(\"Today is the day of Tyr, the god of war.\")\n",
    "\n",
    "elif today == 'Wednesday':\n",
    "\n",
    "    print(\"Today is the day of Odin, the supreme diety.\")\n",
    "\n",
    "elif today == 'Thursday':\n",
    "\n",
    "    print(\"Today is the day of Thor, the god of thunder.\")\n",
    "\n",
    "elif today == 'Friday':\n",
    "\n",
    "    print(\"Today is the day of Frigga, the goddess of beauty.\")\n",
    "\n",
    "elif today == 'Saturday':\n",
    "\n",
    "    print(\"Today is the day of Saturn, the god of fun and feasting.\")\n"
   ]
  },
  {
   "cell_type": "markdown",
   "id": "af8992ea",
   "metadata": {},
   "source": [
    "# .format() method"
   ]
  },
  {
   "cell_type": "code",
   "execution_count": 170,
   "id": "e984e48d",
   "metadata": {},
   "outputs": [
    {
     "name": "stdout",
     "output_type": "stream",
     "text": [
      "All checks failed!\n",
      "49  is not divisible by 2, 3 or 5\n"
     ]
    }
   ],
   "source": [
    "a_number = 49\n",
    "\n",
    " \n",
    "\n",
    "if a_number % 2 == 0:\n",
    "\n",
    "    print('{} is divisible by 2'.format(a_number))\n",
    "\n",
    "elif a_number % 3 == 0:\n",
    "\n",
    "    print('{} is divisible by 3'.format(a_number))\n",
    "\n",
    "elif a_number % 5 == 0:\n",
    "\n",
    "    print('{} is divisible by 5'.format(a_number))\n",
    "\n",
    "else:\n",
    "\n",
    "    print('All checks failed!')\n",
    "\n",
    "    print('{}  is not divisible by 2, 3 or 5'.format(a_number))"
   ]
  },
  {
   "cell_type": "code",
   "execution_count": 171,
   "id": "f1a189a6",
   "metadata": {},
   "outputs": [
    {
     "name": "stdout",
     "output_type": "stream",
     "text": [
      "The value at position 0 is Monday.\n",
      "The value at position 1 is Tuesday.\n",
      "The value at position 2 is Wednesday.\n",
      "The value at position 3 is Thursday.\n",
      "The value at position 4 is Friday.\n"
     ]
    }
   ],
   "source": [
    "a_list = ['Monday', 'Tuesday', 'Wednesday', 'Thursday', 'Friday']\n",
    "\n",
    " \n",
    "\n",
    "for i in range(len(a_list)):\n",
    "\n",
    "    print('The value at position {} is {}.'.format(i, a_list[i]))"
   ]
  },
  {
   "cell_type": "code",
   "execution_count": 172,
   "id": "7a18ff74",
   "metadata": {},
   "outputs": [
    {
     "name": "stdout",
     "output_type": "stream",
     "text": [
      "Today is Monday\n",
      "Today is Tuesday\n",
      "Today is Wednesday\n",
      "I don't work beyond Wednesday!\n"
     ]
    }
   ],
   "source": [
    "weekdays = ['Monday', 'Tuesday', 'Wednesday', 'Thursday', 'Friday']\n",
    "\n",
    " \n",
    "\n",
    "for day in weekdays:\n",
    "\n",
    "    print('Today is {}'.format(day))\n",
    "\n",
    "    if (day == 'Wednesday'):\n",
    "\n",
    "        print(\"I don't work beyond Wednesday!\")\n",
    "\n",
    "        break"
   ]
  },
  {
   "cell_type": "code",
   "execution_count": 173,
   "id": "22b5d99d",
   "metadata": {},
   "outputs": [
    {
     "name": "stdout",
     "output_type": "stream",
     "text": [
      "Today is Monday\n",
      "Today is Tuesday\n",
      "I don't work on Wednesday!\n",
      "Today is Thursday\n",
      "Today is Friday\n"
     ]
    }
   ],
   "source": [
    "weekdays = ['Monday', 'Tuesday', 'Wednesday', 'Thursday', 'Friday']\n",
    "\n",
    "for day in weekdays:\n",
    "\n",
    "    if (day == 'Wednesday'):\n",
    "\n",
    "        print(\"I don't work on Wednesday!\")\n",
    "\n",
    "        continue\n",
    "\n",
    "    print('Today is {}'.format(day))\n",
    "\n",
    " "
   ]
  },
  {
   "cell_type": "markdown",
   "id": "2d9da57c",
   "metadata": {},
   "source": [
    "# Task\n",
    "Write a program that prints different messages based on whether a number is positive or negative."
   ]
  },
  {
   "cell_type": "code",
   "execution_count": 179,
   "id": "d07dabf7",
   "metadata": {},
   "outputs": [
    {
     "name": "stdout",
     "output_type": "stream",
     "text": [
      "Negative number\n",
      "Negative number\n",
      "Negative number\n",
      "Negative number\n",
      "Negative number\n",
      "Negative number\n",
      "Negative number\n",
      "Negative number\n",
      "Negative number\n",
      "Negative number\n",
      "Zero\n",
      "Positive number\n",
      "Positive number\n",
      "Positive number\n",
      "Positive number\n",
      "Positive number\n",
      "Positive number\n",
      "Positive number\n",
      "Positive number\n",
      "Positive number\n",
      "Positive number\n"
     ]
    }
   ],
   "source": [
    "for r in range(-10,11):\n",
    "    if r<0:\n",
    "        print(\"Negative number\")\n",
    "    elif r>0:\n",
    "        print(\"Positive number\")\n",
    "    else:\n",
    "        print(\"Zero\")"
   ]
  },
  {
   "cell_type": "code",
   "execution_count": null,
   "id": "5bda4941",
   "metadata": {},
   "outputs": [],
   "source": []
  }
 ],
 "metadata": {
  "kernelspec": {
   "display_name": "Python 3 (ipykernel)",
   "language": "python",
   "name": "python3"
  },
  "language_info": {
   "codemirror_mode": {
    "name": "ipython",
    "version": 3
   },
   "file_extension": ".py",
   "mimetype": "text/x-python",
   "name": "python",
   "nbconvert_exporter": "python",
   "pygments_lexer": "ipython3",
   "version": "3.9.13"
  }
 },
 "nbformat": 4,
 "nbformat_minor": 5
}
